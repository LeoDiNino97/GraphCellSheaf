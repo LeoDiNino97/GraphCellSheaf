{
 "cells": [
  {
   "cell_type": "code",
   "execution_count": 1,
   "metadata": {},
   "outputs": [],
   "source": [
    "import numpy as np \n",
    "from itertools import combinations\n",
    "from tqdm import tqdm"
   ]
  },
  {
   "cell_type": "markdown",
   "metadata": {},
   "source": [
    "# Cellular sheaves on graphs \n",
    "## Learning sheaf laplacian through minimum total variation approach "
   ]
  },
  {
   "cell_type": "markdown",
   "metadata": {},
   "source": [
    "### Generating a toy-case topology"
   ]
  },
  {
   "cell_type": "code",
   "execution_count": 2,
   "metadata": {},
   "outputs": [],
   "source": [
    "# Let's generate a toy topology for our example\n",
    "\n",
    "nodes = [i for i in range(7)]\n",
    "edges = [\n",
    "    (0,1),\n",
    "    (0,2),\n",
    "    (0,6),\n",
    "    (1,3),\n",
    "    (1,5),\n",
    "    (2,3),\n",
    "    (2,4),\n",
    "    (3,4),\n",
    "    (4,6),\n",
    "    (5,6)\n",
    "]\n",
    "\n",
    "V = 7\n",
    "E = len(edges)"
   ]
  },
  {
   "cell_type": "code",
   "execution_count": 3,
   "metadata": {},
   "outputs": [],
   "source": [
    "d = 3                                           # Node and edges stalks dimension\n",
    "\n",
    "F = {\n",
    "    e:{\n",
    "        e[0]:np.random.randn(3,3),\n",
    "        e[1]:np.random.randn(3,3)\n",
    "        } \n",
    "        for e in edges\n",
    "    }                                           # Incidency linear maps"
   ]
  },
  {
   "cell_type": "code",
   "execution_count": 4,
   "metadata": {},
   "outputs": [
    {
     "data": {
      "text/plain": [
       "{(0,\n",
       "  1): {0: array([[ 0.44519995,  0.10369779, -0.25317437],\n",
       "         [-0.88697682, -1.82179907, -2.78204377],\n",
       "         [ 0.67407613,  1.34696726,  0.29176698]]), 1: array([[-0.4556747 ,  0.02305339, -0.65346528],\n",
       "         [-0.37770901,  0.38159108, -0.12755134],\n",
       "         [-0.7691222 ,  1.0645685 , -0.9158269 ]])},\n",
       " (0,\n",
       "  2): {0: array([[-0.6191327 , -0.15821434, -0.23190604],\n",
       "         [ 0.51336931, -0.19778082,  1.08139148],\n",
       "         [-0.6112487 ,  0.86268117,  0.76510375]]), 2: array([[-0.64384357,  0.4927252 , -0.18785562],\n",
       "         [-0.61303305, -1.10407608,  0.14784216],\n",
       "         [-0.36841804,  0.50391053,  0.05658214]])},\n",
       " (0,\n",
       "  6): {0: array([[ 1.19266846, -0.22353631, -1.1936359 ],\n",
       "         [-2.05281217, -1.69756113, -0.34910764],\n",
       "         [ 1.43390311,  0.70892043, -0.56379197]]), 6: array([[ 0.56950771, -1.46658129, -1.06985275],\n",
       "         [-0.22335726,  0.87171222,  1.58953226],\n",
       "         [-0.13983834,  1.04240835,  1.93322118]])},\n",
       " (1,\n",
       "  3): {1: array([[ 1.17845469,  1.61118483, -1.65060811],\n",
       "         [-1.36474937, -0.05430256, -0.37779448],\n",
       "         [ 0.81302794,  0.42881042, -0.27315667]]), 3: array([[ 0.0514549 ,  0.66139677, -0.66536474],\n",
       "         [-2.03318955, -0.17251635,  1.18520373],\n",
       "         [-0.65881089,  1.91741219,  0.67621483]])},\n",
       " (1,\n",
       "  5): {1: array([[-0.27066127, -0.26156055, -0.12960984],\n",
       "         [ 0.77306769,  0.8927783 ,  0.64276245],\n",
       "         [ 0.4184556 , -1.15247486, -0.89483484]]), 5: array([[ 0.41841467,  2.05100875, -0.72794084],\n",
       "         [ 1.15455034,  0.74328581, -1.2343268 ],\n",
       "         [-0.68416252, -0.73215212, -0.73069807]])},\n",
       " (2,\n",
       "  3): {2: array([[ 0.27565263, -0.82304796,  0.74593003],\n",
       "         [-0.00733008, -0.82272681,  0.61481787],\n",
       "         [-1.97080087, -0.69915559,  2.07690015]]), 3: array([[ 0.12774929,  0.91200122, -0.29853982],\n",
       "         [-1.88815067, -1.03019134,  0.54535701],\n",
       "         [ 0.31112384, -1.88577363, -0.76042102]])},\n",
       " (2,\n",
       "  4): {2: array([[-1.35508589, -1.20639244,  0.73938657],\n",
       "         [-1.58438229,  1.45826094, -0.53315847],\n",
       "         [ 0.6035445 , -0.69528479, -0.37322958]]), 4: array([[-0.79326932, -0.53309781,  0.24066789],\n",
       "         [-0.8689368 ,  0.54417841, -0.29256311],\n",
       "         [ 0.58138805,  2.14772433, -0.48675874]])},\n",
       " (3,\n",
       "  4): {3: array([[-0.64381103,  0.41582684, -0.17163237],\n",
       "         [-0.38938807, -0.38097463,  0.40076788],\n",
       "         [-1.22763619,  1.08256312,  1.97625729]]), 4: array([[ 0.2344118 , -0.52437307,  0.50206258],\n",
       "         [ 0.05464118,  0.96408537,  0.71934744],\n",
       "         [ 2.63384933, -0.67156331,  0.81756136]])},\n",
       " (4,\n",
       "  6): {4: array([[-1.05580688, -1.70733788, -0.16160937],\n",
       "         [-0.58135505, -1.72681864, -1.34477971],\n",
       "         [-0.04083462,  3.63424271, -0.76995191]]), 6: array([[-0.12512093, -0.68282948, -0.34108218],\n",
       "         [ 0.85094649,  0.49278509,  0.02170719],\n",
       "         [ 1.40337614,  0.74089937, -0.61011553]])},\n",
       " (5,\n",
       "  6): {5: array([[-0.13691829, -2.1771763 ,  1.06043825],\n",
       "         [-1.42941122,  1.31411093, -0.40060454],\n",
       "         [ 2.44545496,  1.53723261,  0.78985324]]), 6: array([[-1.00821225,  0.63732332, -0.19738882],\n",
       "         [ 1.39486317,  0.68711595, -0.59184759],\n",
       "         [-0.20735185,  0.97662581, -0.95360282]])}}"
      ]
     },
     "execution_count": 4,
     "metadata": {},
     "output_type": "execute_result"
    }
   ],
   "source": [
    "F"
   ]
  },
  {
   "cell_type": "code",
   "execution_count": 5,
   "metadata": {},
   "outputs": [],
   "source": [
    "# Graph representation\n",
    "\n",
    "A = np.zeros((7,7))\n",
    "\n",
    "for edge in edges:\n",
    "    u = edge[0] \n",
    "    v = edge[1] \n",
    "\n",
    "    A[u,v] = 1\n",
    "    A[v,u] = 1\n",
    "\n",
    "D = np.diag(np.sum(A, axis = 0))\n",
    "L = D - A"
   ]
  },
  {
   "cell_type": "code",
   "execution_count": 6,
   "metadata": {},
   "outputs": [],
   "source": [
    "# Sheaf representation \n",
    "\n",
    "B = np.zeros((d*E, d*V))\n",
    "\n",
    "for i in range(len(edges)):\n",
    "    edge = edges[i]\n",
    "\n",
    "    u = edge[0] \n",
    "    v = edge[1] \n",
    "\n",
    "    B_u = F[edge][u]\n",
    "    B_v = F[edge][v]\n",
    "\n",
    "    B[i*d:(i+1)*d, u*d:(u+1)*d] = B_u\n",
    "    B[i*d:(i+1)*d, v*d:(v+1)*d] = - B_v\n",
    "\n",
    "L_f = B.T @ B"
   ]
  },
  {
   "cell_type": "code",
   "execution_count": 7,
   "metadata": {},
   "outputs": [
    {
     "data": {
      "text/plain": [
       "array([[ 0.44519995,  0.10369779, -0.25317437,  0.4556747 , -0.02305339,\n",
       "         0.65346528,  0.        ,  0.        ,  0.        ,  0.        ,\n",
       "         0.        ,  0.        ,  0.        ,  0.        ,  0.        ,\n",
       "         0.        ,  0.        ,  0.        ,  0.        ,  0.        ,\n",
       "         0.        ],\n",
       "       [-0.88697682, -1.82179907, -2.78204377,  0.37770901, -0.38159108,\n",
       "         0.12755134,  0.        ,  0.        ,  0.        ,  0.        ,\n",
       "         0.        ,  0.        ,  0.        ,  0.        ,  0.        ,\n",
       "         0.        ,  0.        ,  0.        ,  0.        ,  0.        ,\n",
       "         0.        ],\n",
       "       [ 0.67407613,  1.34696726,  0.29176698,  0.7691222 , -1.0645685 ,\n",
       "         0.9158269 ,  0.        ,  0.        ,  0.        ,  0.        ,\n",
       "         0.        ,  0.        ,  0.        ,  0.        ,  0.        ,\n",
       "         0.        ,  0.        ,  0.        ,  0.        ,  0.        ,\n",
       "         0.        ],\n",
       "       [-0.6191327 , -0.15821434, -0.23190604,  0.        ,  0.        ,\n",
       "         0.        ,  0.64384357, -0.4927252 ,  0.18785562,  0.        ,\n",
       "         0.        ,  0.        ,  0.        ,  0.        ,  0.        ,\n",
       "         0.        ,  0.        ,  0.        ,  0.        ,  0.        ,\n",
       "         0.        ],\n",
       "       [ 0.51336931, -0.19778082,  1.08139148,  0.        ,  0.        ,\n",
       "         0.        ,  0.61303305,  1.10407608, -0.14784216,  0.        ,\n",
       "         0.        ,  0.        ,  0.        ,  0.        ,  0.        ,\n",
       "         0.        ,  0.        ,  0.        ,  0.        ,  0.        ,\n",
       "         0.        ],\n",
       "       [-0.6112487 ,  0.86268117,  0.76510375,  0.        ,  0.        ,\n",
       "         0.        ,  0.36841804, -0.50391053, -0.05658214,  0.        ,\n",
       "         0.        ,  0.        ,  0.        ,  0.        ,  0.        ,\n",
       "         0.        ,  0.        ,  0.        ,  0.        ,  0.        ,\n",
       "         0.        ],\n",
       "       [ 1.19266846, -0.22353631, -1.1936359 ,  0.        ,  0.        ,\n",
       "         0.        ,  0.        ,  0.        ,  0.        ,  0.        ,\n",
       "         0.        ,  0.        ,  0.        ,  0.        ,  0.        ,\n",
       "         0.        ,  0.        ,  0.        , -0.56950771,  1.46658129,\n",
       "         1.06985275],\n",
       "       [-2.05281217, -1.69756113, -0.34910764,  0.        ,  0.        ,\n",
       "         0.        ,  0.        ,  0.        ,  0.        ,  0.        ,\n",
       "         0.        ,  0.        ,  0.        ,  0.        ,  0.        ,\n",
       "         0.        ,  0.        ,  0.        ,  0.22335726, -0.87171222,\n",
       "        -1.58953226],\n",
       "       [ 1.43390311,  0.70892043, -0.56379197,  0.        ,  0.        ,\n",
       "         0.        ,  0.        ,  0.        ,  0.        ,  0.        ,\n",
       "         0.        ,  0.        ,  0.        ,  0.        ,  0.        ,\n",
       "         0.        ,  0.        ,  0.        ,  0.13983834, -1.04240835,\n",
       "        -1.93322118],\n",
       "       [ 0.        ,  0.        ,  0.        ,  1.17845469,  1.61118483,\n",
       "        -1.65060811,  0.        ,  0.        ,  0.        , -0.0514549 ,\n",
       "        -0.66139677,  0.66536474,  0.        ,  0.        ,  0.        ,\n",
       "         0.        ,  0.        ,  0.        ,  0.        ,  0.        ,\n",
       "         0.        ],\n",
       "       [ 0.        ,  0.        ,  0.        , -1.36474937, -0.05430256,\n",
       "        -0.37779448,  0.        ,  0.        ,  0.        ,  2.03318955,\n",
       "         0.17251635, -1.18520373,  0.        ,  0.        ,  0.        ,\n",
       "         0.        ,  0.        ,  0.        ,  0.        ,  0.        ,\n",
       "         0.        ],\n",
       "       [ 0.        ,  0.        ,  0.        ,  0.81302794,  0.42881042,\n",
       "        -0.27315667,  0.        ,  0.        ,  0.        ,  0.65881089,\n",
       "        -1.91741219, -0.67621483,  0.        ,  0.        ,  0.        ,\n",
       "         0.        ,  0.        ,  0.        ,  0.        ,  0.        ,\n",
       "         0.        ],\n",
       "       [ 0.        ,  0.        ,  0.        , -0.27066127, -0.26156055,\n",
       "        -0.12960984,  0.        ,  0.        ,  0.        ,  0.        ,\n",
       "         0.        ,  0.        ,  0.        ,  0.        ,  0.        ,\n",
       "        -0.41841467, -2.05100875,  0.72794084,  0.        ,  0.        ,\n",
       "         0.        ],\n",
       "       [ 0.        ,  0.        ,  0.        ,  0.77306769,  0.8927783 ,\n",
       "         0.64276245,  0.        ,  0.        ,  0.        ,  0.        ,\n",
       "         0.        ,  0.        ,  0.        ,  0.        ,  0.        ,\n",
       "        -1.15455034, -0.74328581,  1.2343268 ,  0.        ,  0.        ,\n",
       "         0.        ],\n",
       "       [ 0.        ,  0.        ,  0.        ,  0.4184556 , -1.15247486,\n",
       "        -0.89483484,  0.        ,  0.        ,  0.        ,  0.        ,\n",
       "         0.        ,  0.        ,  0.        ,  0.        ,  0.        ,\n",
       "         0.68416252,  0.73215212,  0.73069807,  0.        ,  0.        ,\n",
       "         0.        ],\n",
       "       [ 0.        ,  0.        ,  0.        ,  0.        ,  0.        ,\n",
       "         0.        ,  0.27565263, -0.82304796,  0.74593003, -0.12774929,\n",
       "        -0.91200122,  0.29853982,  0.        ,  0.        ,  0.        ,\n",
       "         0.        ,  0.        ,  0.        ,  0.        ,  0.        ,\n",
       "         0.        ],\n",
       "       [ 0.        ,  0.        ,  0.        ,  0.        ,  0.        ,\n",
       "         0.        , -0.00733008, -0.82272681,  0.61481787,  1.88815067,\n",
       "         1.03019134, -0.54535701,  0.        ,  0.        ,  0.        ,\n",
       "         0.        ,  0.        ,  0.        ,  0.        ,  0.        ,\n",
       "         0.        ],\n",
       "       [ 0.        ,  0.        ,  0.        ,  0.        ,  0.        ,\n",
       "         0.        , -1.97080087, -0.69915559,  2.07690015, -0.31112384,\n",
       "         1.88577363,  0.76042102,  0.        ,  0.        ,  0.        ,\n",
       "         0.        ,  0.        ,  0.        ,  0.        ,  0.        ,\n",
       "         0.        ],\n",
       "       [ 0.        ,  0.        ,  0.        ,  0.        ,  0.        ,\n",
       "         0.        , -1.35508589, -1.20639244,  0.73938657,  0.        ,\n",
       "         0.        ,  0.        ,  0.79326932,  0.53309781, -0.24066789,\n",
       "         0.        ,  0.        ,  0.        ,  0.        ,  0.        ,\n",
       "         0.        ],\n",
       "       [ 0.        ,  0.        ,  0.        ,  0.        ,  0.        ,\n",
       "         0.        , -1.58438229,  1.45826094, -0.53315847,  0.        ,\n",
       "         0.        ,  0.        ,  0.8689368 , -0.54417841,  0.29256311,\n",
       "         0.        ,  0.        ,  0.        ,  0.        ,  0.        ,\n",
       "         0.        ],\n",
       "       [ 0.        ,  0.        ,  0.        ,  0.        ,  0.        ,\n",
       "         0.        ,  0.6035445 , -0.69528479, -0.37322958,  0.        ,\n",
       "         0.        ,  0.        , -0.58138805, -2.14772433,  0.48675874,\n",
       "         0.        ,  0.        ,  0.        ,  0.        ,  0.        ,\n",
       "         0.        ],\n",
       "       [ 0.        ,  0.        ,  0.        ,  0.        ,  0.        ,\n",
       "         0.        ,  0.        ,  0.        ,  0.        , -0.64381103,\n",
       "         0.41582684, -0.17163237, -0.2344118 ,  0.52437307, -0.50206258,\n",
       "         0.        ,  0.        ,  0.        ,  0.        ,  0.        ,\n",
       "         0.        ],\n",
       "       [ 0.        ,  0.        ,  0.        ,  0.        ,  0.        ,\n",
       "         0.        ,  0.        ,  0.        ,  0.        , -0.38938807,\n",
       "        -0.38097463,  0.40076788, -0.05464118, -0.96408537, -0.71934744,\n",
       "         0.        ,  0.        ,  0.        ,  0.        ,  0.        ,\n",
       "         0.        ],\n",
       "       [ 0.        ,  0.        ,  0.        ,  0.        ,  0.        ,\n",
       "         0.        ,  0.        ,  0.        ,  0.        , -1.22763619,\n",
       "         1.08256312,  1.97625729, -2.63384933,  0.67156331, -0.81756136,\n",
       "         0.        ,  0.        ,  0.        ,  0.        ,  0.        ,\n",
       "         0.        ],\n",
       "       [ 0.        ,  0.        ,  0.        ,  0.        ,  0.        ,\n",
       "         0.        ,  0.        ,  0.        ,  0.        ,  0.        ,\n",
       "         0.        ,  0.        , -1.05580688, -1.70733788, -0.16160937,\n",
       "         0.        ,  0.        ,  0.        ,  0.12512093,  0.68282948,\n",
       "         0.34108218],\n",
       "       [ 0.        ,  0.        ,  0.        ,  0.        ,  0.        ,\n",
       "         0.        ,  0.        ,  0.        ,  0.        ,  0.        ,\n",
       "         0.        ,  0.        , -0.58135505, -1.72681864, -1.34477971,\n",
       "         0.        ,  0.        ,  0.        , -0.85094649, -0.49278509,\n",
       "        -0.02170719],\n",
       "       [ 0.        ,  0.        ,  0.        ,  0.        ,  0.        ,\n",
       "         0.        ,  0.        ,  0.        ,  0.        ,  0.        ,\n",
       "         0.        ,  0.        , -0.04083462,  3.63424271, -0.76995191,\n",
       "         0.        ,  0.        ,  0.        , -1.40337614, -0.74089937,\n",
       "         0.61011553],\n",
       "       [ 0.        ,  0.        ,  0.        ,  0.        ,  0.        ,\n",
       "         0.        ,  0.        ,  0.        ,  0.        ,  0.        ,\n",
       "         0.        ,  0.        ,  0.        ,  0.        ,  0.        ,\n",
       "        -0.13691829, -2.1771763 ,  1.06043825,  1.00821225, -0.63732332,\n",
       "         0.19738882],\n",
       "       [ 0.        ,  0.        ,  0.        ,  0.        ,  0.        ,\n",
       "         0.        ,  0.        ,  0.        ,  0.        ,  0.        ,\n",
       "         0.        ,  0.        ,  0.        ,  0.        ,  0.        ,\n",
       "        -1.42941122,  1.31411093, -0.40060454, -1.39486317, -0.68711595,\n",
       "         0.59184759],\n",
       "       [ 0.        ,  0.        ,  0.        ,  0.        ,  0.        ,\n",
       "         0.        ,  0.        ,  0.        ,  0.        ,  0.        ,\n",
       "         0.        ,  0.        ,  0.        ,  0.        ,  0.        ,\n",
       "         2.44545496,  1.53723261,  0.78985324,  0.20735185, -0.97662581,\n",
       "         0.95360282]])"
      ]
     },
     "execution_count": 7,
     "metadata": {},
     "output_type": "execute_result"
    }
   ],
   "source": [
    "B"
   ]
  },
  {
   "cell_type": "markdown",
   "metadata": {},
   "source": [
    "### Generating a smooth signals dataset "
   ]
  },
  {
   "cell_type": "markdown",
   "metadata": {},
   "source": [
    "*(from Hansen J., \"Learning sheaf Laplacians from smooth signals\")* \n",
    "\n",
    "In order to retrieve a dataset of smoothsignals, first of all we sample random gaussians vectors on the nodes of the graph. Then we smooth them according to their expansion in terms of the eigenvectors of the sheaf Laplacian $L_0$."
   ]
  },
  {
   "cell_type": "markdown",
   "metadata": {},
   "source": [
    "So let's firstly define a dataset of random gaussian vectors. "
   ]
  },
  {
   "cell_type": "code",
   "execution_count": 8,
   "metadata": {},
   "outputs": [],
   "source": [
    "N = 100\n",
    "X = np.random.randn(V*d,N)"
   ]
  },
  {
   "cell_type": "markdown",
   "metadata": {},
   "source": [
    "Now we'll use the Fourier-domain embedded in the Laplacian spectrum. "
   ]
  },
  {
   "cell_type": "markdown",
   "metadata": {},
   "source": [
    "We'll consider a Tikhonov inspired procedure where we firstly project our dataset over the space spanned by the eigenvectors of the sheaf laplacian: namely $U$ the matrix collecting this eigenvectors we have \n",
    "\\begin{equation}\n",
    "    \\hat{x} = U^T x\n",
    "\\end{equation}\n",
    "\n",
    "So that defining $h(\\lambda) = \\frac{1}{1 + 10\\lambda}$ and $H = \\mathrm{diag}\\{h(\\lambda)\\}_{\\lambda}$, we now have\n",
    "\n",
    "\\begin{equation}\n",
    "    \\hat{y} = H(\\Lambda) \\hat{x}\n",
    "\\end{equation}\n",
    "\n",
    "and finally our dataset is just reprojected back into the vertex domain:\n",
    "\n",
    "\\begin{equation}\n",
    "    y = U H(\\Lambda) \\hat{x} = U H(\\Lambda) U^T x\n",
    "\\end{equation}"
   ]
  },
  {
   "cell_type": "code",
   "execution_count": 9,
   "metadata": {},
   "outputs": [],
   "source": [
    "Lambda, U = np.linalg.eig(L_f)\n",
    "H = 1/(1 + 10*Lambda)"
   ]
  },
  {
   "cell_type": "code",
   "execution_count": 10,
   "metadata": {},
   "outputs": [],
   "source": [
    "Y = U @ np.diag(H) @ U.T @ X"
   ]
  },
  {
   "cell_type": "markdown",
   "metadata": {},
   "source": [
    "Now we deploy the linear map learning strategy. If we consider each of the linear maps connecting the stalks over the nodes with the stalk of the inciding edge, we have that the minimum total variation on the Laplacian can be rewritten as:\n",
    "\n",
    "\\begin{equation}\n",
    "    \\min_{\\mathcal{F}_{u \\triangleleft e}, \\mathcal{F}_{v \\triangleleft e}, e \\in E} \\frac{1}{2} \\sum_{e \\in E} \\sum_{i=1}^N ||\\mathcal{F}_{u \\triangleleft e}x_u^i - \\mathcal{F}_{v \\triangleleft e}x_v^i||_F^2\n",
    "\\end{equation}\n",
    "\n",
    "Clearly this problem can be decomposed into the contribution of each of the edges, requiring us to solve a subproblem for each of the possible edges: \n",
    "\n",
    "\\begin{equation}\n",
    "    \\min_{\\mathcal{F}_{u \\triangleleft e}, \\mathcal{F}_{v \\triangleleft e}} \\frac{1}{2} \\sum_{i=1}^N ||\\mathcal{F}_{u \\triangleleft e}x_u^i - \\mathcal{F}_{v \\triangleleft e}x_v^i||_F^2\n",
    "\\end{equation}\n",
    "\n",
    "This problem can be solved in a successive convex approximation fashion, being block-wise convex: the update equations are: \n",
    "\n",
    "\\begin{gather}\n",
    "    \\hat{{\\mathcal{F}}}_{u \\triangleleft e} = {\\mathcal{F}_{v \\triangleleft e}} (X_vX_u^T) (X_uX_u^T)^{-1} \\\\ \\nonumber\n",
    "    \\hat{{\\mathcal{F}}}_{v \\triangleleft e} = {\\mathcal{F}_{u \\triangleleft e}} (X_uX_v^T) (X_vX_v^T)^{-1}\n",
    "\\end{gather}\n",
    "\n",
    "In the end we can compute the total energy related to each edge: this means that if we sort out all the edges with respect to this measure we can rebuild the laplacian considering the given $t_0$ number of edges and the associated linear maps. "
   ]
  },
  {
   "cell_type": "code",
   "execution_count": 11,
   "metadata": {},
   "outputs": [],
   "source": [
    "# Alternated Linear Maps Learning\n",
    "\n",
    "def ALML(X_u, X_v, d, T = 500):\n",
    "    # Initialization \n",
    "\n",
    "    F_u = np.random.randn(d)\n",
    "    F_v = np.random.randn(d)\n",
    "    gamma = 0.99\n",
    "\n",
    "    # This matrices can be computed out of the learning loop \n",
    "\n",
    "    vu = X_v @ X_u.T\n",
    "    uv = X_u @ X_v.T\n",
    "    uu = np.linalg.inv(X_u @ X_u.T)\n",
    "    vv = np.linalg.inv(X_v @ X_v.T)\n",
    "\n",
    "    # Alternated learning through blockwise convex programs\n",
    "\n",
    "    for _ in range(T): \n",
    "        # Local step\n",
    "        F_u_hat = F_v @ vu @ uu\n",
    "        F_v_hat = F_u @ uv @ vv\n",
    "\n",
    "        # Convex smoothing\n",
    "        F_u = F_u + gamma*(F_u_hat - F_u)\n",
    "        F_v = F_v + gamma*(F_v_hat - F_v)\n",
    "\n",
    "        gamma *= 0.9\n",
    "        \n",
    "    return F_u, F_v "
   ]
  },
  {
   "cell_type": "code",
   "execution_count": 12,
   "metadata": {},
   "outputs": [],
   "source": [
    "all_edges = list(combinations(nodes, 2))\n",
    "maps = {\n",
    "    e:{\n",
    "        e[0] : np.zeros((3,3)), \n",
    "        e[1] : np.zeros((3,3))\n",
    "        } \n",
    "    for e in all_edges\n",
    "    }\n",
    "\n",
    "energies = {\n",
    "    e : 0\n",
    "    for e in all_edges\n",
    "    }"
   ]
  },
  {
   "cell_type": "code",
   "execution_count": 31,
   "metadata": {},
   "outputs": [
    {
     "name": "stderr",
     "output_type": "stream",
     "text": [
      "100%|██████████| 21/21 [00:00<00:00, 165.07it/s]\n"
     ]
    }
   ],
   "source": [
    "for e in tqdm(all_edges):\n",
    "    u = e[0]\n",
    "    v = e[1]\n",
    "\n",
    "    X_u = Y[u*d:(u+1)*d,:]\n",
    "    X_v = Y[v*d:(v+1)*d,:]\n",
    "\n",
    "    F_u, F_v = ALML(X_u, X_v, d, T = 500)\n",
    "\n",
    "    maps[e][u] = F_u\n",
    "    maps[e][v] = F_v\n",
    "\n",
    "    L = 0\n",
    "\n",
    "    for i in range(100):\n",
    "        x_u = X_u[:,i]\n",
    "        x_v = X_v[:,i]\n",
    "        L += np.linalg.norm(F_u @ x_u - F_v @ x_v)\n",
    "        \n",
    "    energies[e] = L"
   ]
  },
  {
   "cell_type": "code",
   "execution_count": 32,
   "metadata": {},
   "outputs": [],
   "source": [
    "retrieved = sorted(energies.items(), key=lambda x:x[1])[:E]"
   ]
  },
  {
   "cell_type": "code",
   "execution_count": 33,
   "metadata": {},
   "outputs": [],
   "source": [
    "B_hat = np.zeros((d*E, d*V))\n",
    "\n",
    "for i in range(10):\n",
    "    edge = retrieved[i][0]\n",
    "\n",
    "    u = edge[0] \n",
    "    v = edge[1] \n",
    "\n",
    "    B_u = maps[edge][u]\n",
    "    B_v = maps[edge][v]\n",
    "\n",
    "    B_hat[i*d:(i+1)*d, u*d:(u+1)*d] = B_u\n",
    "    B_hat[i*d:(i+1)*d, v*d:(v+1)*d] = - B_v\n",
    "\n",
    "L_f_hat = B_hat.T @ B_hat"
   ]
  },
  {
   "cell_type": "code",
   "execution_count": 34,
   "metadata": {},
   "outputs": [
    {
     "data": {
      "text/plain": [
       "0.12678923441534412"
      ]
     },
     "execution_count": 34,
     "metadata": {},
     "output_type": "execute_result"
    }
   ],
   "source": [
    "# The metric chosen by Hansen for the evaluation was the average entry-wise euclidean distance\n",
    "\n",
    "np.sqrt(np.sum((L_f - L_f_hat)**2)) / L_f.size"
   ]
  },
  {
   "cell_type": "markdown",
   "metadata": {},
   "source": [
    "# Extended simulation "
   ]
  },
  {
   "cell_type": "code",
   "execution_count": 17,
   "metadata": {},
   "outputs": [],
   "source": [
    "def simulation(V = 100, d = 3):\n",
    "    nodes = [n for n in range(V)]\n",
    "    edges = []\n",
    "\n",
    "    for u in range(V):\n",
    "        for v in range(u, V):\n",
    "            p = np.random.uniform(0,1,1)\n",
    "            if p > 0.5:\n",
    "                edges.append((u,v))\n",
    "\n",
    "    E = len(edges)\n",
    "    F = {\n",
    "        e:{\n",
    "            e[0]:np.random.randn(d,d),\n",
    "            e[1]:np.random.randn(d,d)\n",
    "            } \n",
    "            for e in edges\n",
    "        }                                           # Incidency linear maps\n",
    "\n",
    "    #_______________________\n",
    "    # Sheaf representation \n",
    "\n",
    "    B = np.zeros((d*E, d*V))                        # Coboundary maps\n",
    "\n",
    "    for i in range(len(edges)):\n",
    "\n",
    "        # Main loop to populate the coboundary map\n",
    "\n",
    "        edge = edges[i]\n",
    "\n",
    "        u = edge[0] \n",
    "        v = edge[1] \n",
    "\n",
    "        B_u = F[edge][u]\n",
    "        B_v = F[edge][v]\n",
    "\n",
    "        B[i*d:(i+1)*d, u*d:(u+1)*d] = B_u           \n",
    "        B[i*d:(i+1)*d, v*d:(v+1)*d] = - B_v\n",
    "\n",
    "    L_f = B.T @ B\n",
    "\n",
    "    #_______________________\n",
    "\n",
    "    N = 100\n",
    "    X = np.random.randn(V*d,N) \n",
    "\n",
    "    # Spectral representation of the sheaf laplacian\n",
    "    Lambda, U = np.linalg.eig(L_f)\n",
    "\n",
    "    # Functional for filtering remapping the eigenvals in [0,1]\n",
    "    H = 1/(1 + 10*Lambda) \n",
    "\n",
    "    \n",
    "    Y = (U @                                        # Project back into the nodes domain\n",
    "         np.diag(H) @                               # Filter out in a Tikhonov fashion\n",
    "         U.T @ X                                    # Project gaussian random vectors in the Fourier domain of the sheaf laplacian \n",
    "    )\n",
    "\n",
    "    all_edges = list(combinations(nodes, 2))\n",
    "    maps = {\n",
    "        e:{\n",
    "            e[0] : np.zeros((d,d)), \n",
    "            e[1] : np.zeros((d,d))\n",
    "            } \n",
    "        for e in all_edges\n",
    "        }\n",
    "\n",
    "    energies = {\n",
    "        e : 0\n",
    "        for e in all_edges\n",
    "        }\n",
    "\n",
    "    for e in tqdm(all_edges):\n",
    "        u = e[0]\n",
    "        v = e[1]\n",
    "\n",
    "        X_u = Y[u*d:(u+1)*d,:]\n",
    "        X_v = Y[v*d:(v+1)*d,:]\n",
    "\n",
    "        F_u, F_v = ALML(X_u, X_v, d, T = 500)\n",
    "\n",
    "        maps[e][u] = F_u\n",
    "        maps[e][v] = F_v\n",
    "\n",
    "        L = 0\n",
    "\n",
    "        for i in range(100):\n",
    "            x_u = X_u[:,i]\n",
    "            x_v = X_v[:,i]\n",
    "            L += np.linalg.norm(F_u @ x_u - F_v @ x_v)\n",
    "            \n",
    "        energies[e] = L\n",
    "\n",
    "    retrieved = sorted(energies.items(), key=lambda x:x[1])[:E]\n",
    "    B_hat = np.zeros((d*E, d*V))\n",
    "\n",
    "    for i in range(E):\n",
    "        edge = retrieved[i][0]\n",
    "\n",
    "        u = edge[0] \n",
    "        v = edge[1] \n",
    "\n",
    "        B_u = maps[edge][u]\n",
    "        B_v = maps[edge][v]\n",
    "\n",
    "        B_hat[i*d:(i+1)*d, u*d:(u+1)*d] = B_u\n",
    "        B_hat[i*d:(i+1)*d, v*d:(v+1)*d] = - B_v\n",
    "\n",
    "    L_f_hat = B_hat.T @ B_hat\n",
    "\n",
    "    return {\n",
    "        \"AvgEntryWiseED\" : np.sqrt(np.sum((L_f - L_f_hat)**2)) / L_f.size,\n",
    "        \"SparsityAccuracy\" : len(set(list(map(lambda x: x[0], retrieved))).intersection(set(edges))) / E\n",
    "        }"
   ]
  },
  {
   "cell_type": "code",
   "execution_count": null,
   "metadata": {},
   "outputs": [],
   "source": [
    "T = 20\n",
    "sims_1_avgDist = [0 for _ in range(T)]\n",
    "sims_1_sparsAcc = [0 for _ in range(T)]\n",
    "\n",
    "sims_2_avgDist = [0 for _ in range(T)]\n",
    "sims_2_sparsAcc = [0 for _ in range(T)]\n",
    "\n",
    "for t in range(T):\n",
    "    simu_1 = simulation(V = 100, d = 1)\n",
    "\n",
    "    sims_1_avgDist[t] = simu_1[\"AvgEntryWiseED\"]\n",
    "    sims_1_sparsAcc[t] = simu_1[\"SparsityAccuracy\"]\n",
    "\n",
    "    simu_2 = simulation(V = 50, d = 2)\n",
    "\n",
    "    sims_2_avgDist[t] = simu_2[\"AvgEntryWiseED\"]\n",
    "    sims_2_sparsAcc[t] = simu_2[\"SparsityAccuracy\"]"
   ]
  },
  {
   "cell_type": "code",
   "execution_count": 19,
   "metadata": {},
   "outputs": [],
   "source": [
    "AVG_sims_1_avgDist = sum(sims_1_avgDist) / 20\n",
    "AVG_sims_1_sparsAcc = sum(sims_1_sparsAcc) / 20\n",
    "AVG_sims_2_avgDist = sum(sims_2_avgDist) / 20\n",
    "AVG_sims_2_sparsAcc = sum(sims_2_sparsAcc) / 20"
   ]
  },
  {
   "cell_type": "code",
   "execution_count": 29,
   "metadata": {},
   "outputs": [
    {
     "name": "stdout",
     "output_type": "stream",
     "text": [
      "Media dell'errore di ricostruzione entry-wise del laplaciano del fascio, V = 100, d = 1: 0.051820449777789934\n",
      "Media dell'errore di ricostruzione entry-wise del laplaciano del fascio, V = 50, d = 2:  0.05307085129770831\n"
     ]
    }
   ],
   "source": [
    "print(\"Media dell'errore di ricostruzione entry-wise del laplaciano del fascio, V = 100, d = 1:\", AVG_sims_1_avgDist)\n",
    "print(\"Media dell'errore di ricostruzione entry-wise del laplaciano del fascio, V = 50, d = 2: \", AVG_sims_2_avgDist)"
   ]
  },
  {
   "cell_type": "code",
   "execution_count": 30,
   "metadata": {},
   "outputs": [
    {
     "name": "stdout",
     "output_type": "stream",
     "text": [
      "Media della precisione nella ricostruzione del grafo sottostante il fascio, V = 100, d = 1: 0.4889273765031982\n",
      "Media della precisione nella ricostruzione del grafo sottostante il fascio, V = 50, d = 2:  0.4564744248600553\n"
     ]
    }
   ],
   "source": [
    "print(\"Media della precisione nella ricostruzione del grafo sottostante il fascio, V = 100, d = 1:\", AVG_sims_1_sparsAcc)\n",
    "print(\"Media della precisione nella ricostruzione del grafo sottostante il fascio, V = 50, d = 2: \", AVG_sims_2_sparsAcc)"
   ]
  }
 ],
 "metadata": {
  "kernelspec": {
   "display_name": "Python 3",
   "language": "python",
   "name": "python3"
  },
  "language_info": {
   "codemirror_mode": {
    "name": "ipython",
    "version": 3
   },
   "file_extension": ".py",
   "mimetype": "text/x-python",
   "name": "python",
   "nbconvert_exporter": "python",
   "pygments_lexer": "ipython3",
   "version": "3.10.7"
  }
 },
 "nbformat": 4,
 "nbformat_minor": 2
}
