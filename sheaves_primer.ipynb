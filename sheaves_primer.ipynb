{
 "cells": [
  {
   "cell_type": "code",
   "execution_count": 95,
   "metadata": {},
   "outputs": [],
   "source": [
    "import numpy as np \n",
    "from itertools import combinations\n",
    "from tqdm import tqdm"
   ]
  },
  {
   "cell_type": "markdown",
   "metadata": {},
   "source": [
    "# Cellular sheaves on graphs \n",
    "## Learning sheaf laplacian through minimum total variation approach "
   ]
  },
  {
   "cell_type": "markdown",
   "metadata": {},
   "source": [
    "### Generating a toy-case topology"
   ]
  },
  {
   "cell_type": "code",
   "execution_count": 96,
   "metadata": {},
   "outputs": [],
   "source": [
    "# Let's generate a toy topology for our example\n",
    "\n",
    "nodes = [i for i in range(7)]\n",
    "edges = [\n",
    "    (0,1),\n",
    "    (0,2),\n",
    "    (0,6),\n",
    "    (1,3),\n",
    "    (1,5),\n",
    "    (2,3),\n",
    "    (2,4),\n",
    "    (3,4),\n",
    "    (4,6),\n",
    "    (5,6)\n",
    "]\n",
    "\n",
    "V = 7\n",
    "E = len(edges)"
   ]
  },
  {
   "cell_type": "code",
   "execution_count": 97,
   "metadata": {},
   "outputs": [],
   "source": [
    "d = 3                                           # Node and edges stalks dimension\n",
    "\n",
    "F = {\n",
    "    e:{\n",
    "        e[0]:np.random.randn(3,3),\n",
    "        e[1]:np.random.randn(3,3)\n",
    "        } \n",
    "        for e in edges\n",
    "    }                                           # Incidency linear maps"
   ]
  },
  {
   "cell_type": "code",
   "execution_count": 98,
   "metadata": {},
   "outputs": [
    {
     "data": {
      "text/plain": [
       "{(0,\n",
       "  1): {0: array([[ 0.30018377,  0.01274902, -1.23677388],\n",
       "         [ 0.84354805, -0.61801721, -0.42274405],\n",
       "         [ 1.2320627 , -0.03098521, -0.25735184]]), 1: array([[-0.50018527, -0.17989843, -0.22823313],\n",
       "         [ 1.06078799, -0.06750924, -0.73415582],\n",
       "         [-0.42407321, -0.65968976, -0.64874126]])},\n",
       " (0,\n",
       "  2): {0: array([[ 0.53922588,  0.71854784, -0.16607856],\n",
       "         [ 0.91763542,  0.28069313, -0.9749603 ],\n",
       "         [-0.20275708, -1.41826462, -1.02604958]]), 2: array([[-0.63044338, -0.58708235, -0.15421156],\n",
       "         [ 2.12742565,  1.63479133, -0.02070181],\n",
       "         [ 0.49604176,  0.71034996,  0.3055147 ]])},\n",
       " (0,\n",
       "  6): {0: array([[-0.51720257, -0.78004974, -1.13419251],\n",
       "         [-0.24644268,  1.06929833,  0.03214937],\n",
       "         [-0.0187837 , -2.16532669, -1.02754631]]), 6: array([[-0.98701016,  1.47749263,  0.49410047],\n",
       "         [ 0.35574068, -0.21964233, -0.57431251],\n",
       "         [-0.67214513,  0.67796445,  0.25418034]])},\n",
       " (1,\n",
       "  3): {1: array([[ 0.77629891,  0.10388887,  0.00771995],\n",
       "         [-0.51656421, -0.89048544, -1.97738765],\n",
       "         [-1.61637209,  1.60416916,  2.07340463]]), 3: array([[ 1.68319379,  1.35033577, -0.25756971],\n",
       "         [ 0.91106636, -0.1827563 , -2.06283262],\n",
       "         [ 0.8258723 ,  1.16279649, -0.67972211]])},\n",
       " (1,\n",
       "  5): {1: array([[ 0.02956161, -0.59243603, -1.41083618],\n",
       "         [ 2.33589564,  2.01873417, -0.60161795],\n",
       "         [ 0.3755828 , -0.49432324,  1.35444255]]), 5: array([[ 0.37639225,  0.20367632,  0.71385384],\n",
       "         [ 0.32861329,  0.64297877, -0.59635717],\n",
       "         [-1.18028255,  0.91910114,  1.13884914]])},\n",
       " (2,\n",
       "  3): {2: array([[ 0.57067286, -1.12547405,  0.09778137],\n",
       "         [-0.237557  , -0.25014504, -0.66057069],\n",
       "         [-0.10273115,  0.31946911,  0.47146568]]), 3: array([[ 0.92456773,  0.71289094, -0.04859939],\n",
       "         [-1.21425028,  0.78201999,  0.54221068],\n",
       "         [ 2.15022002,  1.01094631, -0.01823049]])},\n",
       " (2,\n",
       "  4): {2: array([[-0.43318766,  0.3385318 ,  1.03684392],\n",
       "         [ 0.20258652, -0.18139455,  0.57013207],\n",
       "         [ 1.82229329,  0.90552346,  0.50574177]]), 4: array([[-0.50897428,  0.64500078, -0.24546974],\n",
       "         [ 0.51255457, -0.71312494, -0.23760412],\n",
       "         [ 0.11878923, -0.95102805, -0.11924259]])},\n",
       " (3,\n",
       "  4): {3: array([[-0.24220046, -1.50252432, -0.48670776],\n",
       "         [-0.45580468, -0.58142472, -1.12879747],\n",
       "         [ 0.25162441, -0.9421623 , -0.0479978 ]]), 4: array([[ 1.114365  , -1.07417797,  0.09733848],\n",
       "         [ 0.68798064,  1.04833447, -0.11188656],\n",
       "         [ 0.85368867,  0.80627424, -0.35846382]])},\n",
       " (4,\n",
       "  6): {4: array([[ 0.74151367,  0.78737158,  1.18118571],\n",
       "         [-0.40348693, -0.06128748,  0.9997819 ],\n",
       "         [ 0.75836945,  1.77407776, -0.60421802]]), 6: array([[ 0.36237216,  0.68618616, -0.75736739],\n",
       "         [-0.18491926,  0.06830904,  0.61848911],\n",
       "         [-0.81222397, -0.52782074, -0.26418721]])},\n",
       " (5,\n",
       "  6): {5: array([[-0.8388736 , -1.01314704,  0.45173751],\n",
       "         [-0.03102811,  1.64550362, -0.67290696],\n",
       "         [ 0.74857596,  0.47777219,  0.35431389]]), 6: array([[-1.22020061, -0.55542945, -0.75912151],\n",
       "         [-0.50320797, -1.3224414 ,  0.3657162 ],\n",
       "         [ 2.16402581,  1.58742407,  0.54193239]])}}"
      ]
     },
     "execution_count": 98,
     "metadata": {},
     "output_type": "execute_result"
    }
   ],
   "source": [
    "F"
   ]
  },
  {
   "cell_type": "code",
   "execution_count": 99,
   "metadata": {},
   "outputs": [],
   "source": [
    "# Graph representation\n",
    "\n",
    "A = np.zeros((7,7))\n",
    "\n",
    "for edge in edges:\n",
    "    u = edge[0] \n",
    "    v = edge[1] \n",
    "\n",
    "    A[u,v] = 1\n",
    "    A[v,u] = 1\n",
    "\n",
    "D = np.diag(np.sum(A, axis = 0))\n",
    "L = D - A"
   ]
  },
  {
   "cell_type": "code",
   "execution_count": 100,
   "metadata": {},
   "outputs": [],
   "source": [
    "# Sheaf representation \n",
    "\n",
    "B = np.zeros((d*E, d*V))\n",
    "\n",
    "for i in range(len(edges)):\n",
    "    edge = edges[i]\n",
    "\n",
    "    u = edge[0] \n",
    "    v = edge[1] \n",
    "\n",
    "    B_u = F[edge][u]\n",
    "    B_v = F[edge][v]\n",
    "\n",
    "    B[i*d:(i+1)*d, u*d:(u+1)*d] = B_u\n",
    "    B[i*d:(i+1)*d, v*d:(v+1)*d] = - B_v\n",
    "\n",
    "L_f = B.T @ B"
   ]
  },
  {
   "cell_type": "code",
   "execution_count": 101,
   "metadata": {},
   "outputs": [
    {
     "data": {
      "text/plain": [
       "array([[ 0.30018377,  0.01274902, -1.23677388,  0.50018527,  0.17989843,\n",
       "         0.22823313,  0.        ,  0.        ,  0.        ,  0.        ,\n",
       "         0.        ,  0.        ,  0.        ,  0.        ,  0.        ,\n",
       "         0.        ,  0.        ,  0.        ,  0.        ,  0.        ,\n",
       "         0.        ],\n",
       "       [ 0.84354805, -0.61801721, -0.42274405, -1.06078799,  0.06750924,\n",
       "         0.73415582,  0.        ,  0.        ,  0.        ,  0.        ,\n",
       "         0.        ,  0.        ,  0.        ,  0.        ,  0.        ,\n",
       "         0.        ,  0.        ,  0.        ,  0.        ,  0.        ,\n",
       "         0.        ],\n",
       "       [ 1.2320627 , -0.03098521, -0.25735184,  0.42407321,  0.65968976,\n",
       "         0.64874126,  0.        ,  0.        ,  0.        ,  0.        ,\n",
       "         0.        ,  0.        ,  0.        ,  0.        ,  0.        ,\n",
       "         0.        ,  0.        ,  0.        ,  0.        ,  0.        ,\n",
       "         0.        ],\n",
       "       [ 0.53922588,  0.71854784, -0.16607856,  0.        ,  0.        ,\n",
       "         0.        ,  0.63044338,  0.58708235,  0.15421156,  0.        ,\n",
       "         0.        ,  0.        ,  0.        ,  0.        ,  0.        ,\n",
       "         0.        ,  0.        ,  0.        ,  0.        ,  0.        ,\n",
       "         0.        ],\n",
       "       [ 0.91763542,  0.28069313, -0.9749603 ,  0.        ,  0.        ,\n",
       "         0.        , -2.12742565, -1.63479133,  0.02070181,  0.        ,\n",
       "         0.        ,  0.        ,  0.        ,  0.        ,  0.        ,\n",
       "         0.        ,  0.        ,  0.        ,  0.        ,  0.        ,\n",
       "         0.        ],\n",
       "       [-0.20275708, -1.41826462, -1.02604958,  0.        ,  0.        ,\n",
       "         0.        , -0.49604176, -0.71034996, -0.3055147 ,  0.        ,\n",
       "         0.        ,  0.        ,  0.        ,  0.        ,  0.        ,\n",
       "         0.        ,  0.        ,  0.        ,  0.        ,  0.        ,\n",
       "         0.        ],\n",
       "       [-0.51720257, -0.78004974, -1.13419251,  0.        ,  0.        ,\n",
       "         0.        ,  0.        ,  0.        ,  0.        ,  0.        ,\n",
       "         0.        ,  0.        ,  0.        ,  0.        ,  0.        ,\n",
       "         0.        ,  0.        ,  0.        ,  0.98701016, -1.47749263,\n",
       "        -0.49410047],\n",
       "       [-0.24644268,  1.06929833,  0.03214937,  0.        ,  0.        ,\n",
       "         0.        ,  0.        ,  0.        ,  0.        ,  0.        ,\n",
       "         0.        ,  0.        ,  0.        ,  0.        ,  0.        ,\n",
       "         0.        ,  0.        ,  0.        , -0.35574068,  0.21964233,\n",
       "         0.57431251],\n",
       "       [-0.0187837 , -2.16532669, -1.02754631,  0.        ,  0.        ,\n",
       "         0.        ,  0.        ,  0.        ,  0.        ,  0.        ,\n",
       "         0.        ,  0.        ,  0.        ,  0.        ,  0.        ,\n",
       "         0.        ,  0.        ,  0.        ,  0.67214513, -0.67796445,\n",
       "        -0.25418034],\n",
       "       [ 0.        ,  0.        ,  0.        ,  0.77629891,  0.10388887,\n",
       "         0.00771995,  0.        ,  0.        ,  0.        , -1.68319379,\n",
       "        -1.35033577,  0.25756971,  0.        ,  0.        ,  0.        ,\n",
       "         0.        ,  0.        ,  0.        ,  0.        ,  0.        ,\n",
       "         0.        ],\n",
       "       [ 0.        ,  0.        ,  0.        , -0.51656421, -0.89048544,\n",
       "        -1.97738765,  0.        ,  0.        ,  0.        , -0.91106636,\n",
       "         0.1827563 ,  2.06283262,  0.        ,  0.        ,  0.        ,\n",
       "         0.        ,  0.        ,  0.        ,  0.        ,  0.        ,\n",
       "         0.        ],\n",
       "       [ 0.        ,  0.        ,  0.        , -1.61637209,  1.60416916,\n",
       "         2.07340463,  0.        ,  0.        ,  0.        , -0.8258723 ,\n",
       "        -1.16279649,  0.67972211,  0.        ,  0.        ,  0.        ,\n",
       "         0.        ,  0.        ,  0.        ,  0.        ,  0.        ,\n",
       "         0.        ],\n",
       "       [ 0.        ,  0.        ,  0.        ,  0.02956161, -0.59243603,\n",
       "        -1.41083618,  0.        ,  0.        ,  0.        ,  0.        ,\n",
       "         0.        ,  0.        ,  0.        ,  0.        ,  0.        ,\n",
       "        -0.37639225, -0.20367632, -0.71385384,  0.        ,  0.        ,\n",
       "         0.        ],\n",
       "       [ 0.        ,  0.        ,  0.        ,  2.33589564,  2.01873417,\n",
       "        -0.60161795,  0.        ,  0.        ,  0.        ,  0.        ,\n",
       "         0.        ,  0.        ,  0.        ,  0.        ,  0.        ,\n",
       "        -0.32861329, -0.64297877,  0.59635717,  0.        ,  0.        ,\n",
       "         0.        ],\n",
       "       [ 0.        ,  0.        ,  0.        ,  0.3755828 , -0.49432324,\n",
       "         1.35444255,  0.        ,  0.        ,  0.        ,  0.        ,\n",
       "         0.        ,  0.        ,  0.        ,  0.        ,  0.        ,\n",
       "         1.18028255, -0.91910114, -1.13884914,  0.        ,  0.        ,\n",
       "         0.        ],\n",
       "       [ 0.        ,  0.        ,  0.        ,  0.        ,  0.        ,\n",
       "         0.        ,  0.57067286, -1.12547405,  0.09778137, -0.92456773,\n",
       "        -0.71289094,  0.04859939,  0.        ,  0.        ,  0.        ,\n",
       "         0.        ,  0.        ,  0.        ,  0.        ,  0.        ,\n",
       "         0.        ],\n",
       "       [ 0.        ,  0.        ,  0.        ,  0.        ,  0.        ,\n",
       "         0.        , -0.237557  , -0.25014504, -0.66057069,  1.21425028,\n",
       "        -0.78201999, -0.54221068,  0.        ,  0.        ,  0.        ,\n",
       "         0.        ,  0.        ,  0.        ,  0.        ,  0.        ,\n",
       "         0.        ],\n",
       "       [ 0.        ,  0.        ,  0.        ,  0.        ,  0.        ,\n",
       "         0.        , -0.10273115,  0.31946911,  0.47146568, -2.15022002,\n",
       "        -1.01094631,  0.01823049,  0.        ,  0.        ,  0.        ,\n",
       "         0.        ,  0.        ,  0.        ,  0.        ,  0.        ,\n",
       "         0.        ],\n",
       "       [ 0.        ,  0.        ,  0.        ,  0.        ,  0.        ,\n",
       "         0.        , -0.43318766,  0.3385318 ,  1.03684392,  0.        ,\n",
       "         0.        ,  0.        ,  0.50897428, -0.64500078,  0.24546974,\n",
       "         0.        ,  0.        ,  0.        ,  0.        ,  0.        ,\n",
       "         0.        ],\n",
       "       [ 0.        ,  0.        ,  0.        ,  0.        ,  0.        ,\n",
       "         0.        ,  0.20258652, -0.18139455,  0.57013207,  0.        ,\n",
       "         0.        ,  0.        , -0.51255457,  0.71312494,  0.23760412,\n",
       "         0.        ,  0.        ,  0.        ,  0.        ,  0.        ,\n",
       "         0.        ],\n",
       "       [ 0.        ,  0.        ,  0.        ,  0.        ,  0.        ,\n",
       "         0.        ,  1.82229329,  0.90552346,  0.50574177,  0.        ,\n",
       "         0.        ,  0.        , -0.11878923,  0.95102805,  0.11924259,\n",
       "         0.        ,  0.        ,  0.        ,  0.        ,  0.        ,\n",
       "         0.        ],\n",
       "       [ 0.        ,  0.        ,  0.        ,  0.        ,  0.        ,\n",
       "         0.        ,  0.        ,  0.        ,  0.        , -0.24220046,\n",
       "        -1.50252432, -0.48670776, -1.114365  ,  1.07417797, -0.09733848,\n",
       "         0.        ,  0.        ,  0.        ,  0.        ,  0.        ,\n",
       "         0.        ],\n",
       "       [ 0.        ,  0.        ,  0.        ,  0.        ,  0.        ,\n",
       "         0.        ,  0.        ,  0.        ,  0.        , -0.45580468,\n",
       "        -0.58142472, -1.12879747, -0.68798064, -1.04833447,  0.11188656,\n",
       "         0.        ,  0.        ,  0.        ,  0.        ,  0.        ,\n",
       "         0.        ],\n",
       "       [ 0.        ,  0.        ,  0.        ,  0.        ,  0.        ,\n",
       "         0.        ,  0.        ,  0.        ,  0.        ,  0.25162441,\n",
       "        -0.9421623 , -0.0479978 , -0.85368867, -0.80627424,  0.35846382,\n",
       "         0.        ,  0.        ,  0.        ,  0.        ,  0.        ,\n",
       "         0.        ],\n",
       "       [ 0.        ,  0.        ,  0.        ,  0.        ,  0.        ,\n",
       "         0.        ,  0.        ,  0.        ,  0.        ,  0.        ,\n",
       "         0.        ,  0.        ,  0.74151367,  0.78737158,  1.18118571,\n",
       "         0.        ,  0.        ,  0.        , -0.36237216, -0.68618616,\n",
       "         0.75736739],\n",
       "       [ 0.        ,  0.        ,  0.        ,  0.        ,  0.        ,\n",
       "         0.        ,  0.        ,  0.        ,  0.        ,  0.        ,\n",
       "         0.        ,  0.        , -0.40348693, -0.06128748,  0.9997819 ,\n",
       "         0.        ,  0.        ,  0.        ,  0.18491926, -0.06830904,\n",
       "        -0.61848911],\n",
       "       [ 0.        ,  0.        ,  0.        ,  0.        ,  0.        ,\n",
       "         0.        ,  0.        ,  0.        ,  0.        ,  0.        ,\n",
       "         0.        ,  0.        ,  0.75836945,  1.77407776, -0.60421802,\n",
       "         0.        ,  0.        ,  0.        ,  0.81222397,  0.52782074,\n",
       "         0.26418721],\n",
       "       [ 0.        ,  0.        ,  0.        ,  0.        ,  0.        ,\n",
       "         0.        ,  0.        ,  0.        ,  0.        ,  0.        ,\n",
       "         0.        ,  0.        ,  0.        ,  0.        ,  0.        ,\n",
       "        -0.8388736 , -1.01314704,  0.45173751,  1.22020061,  0.55542945,\n",
       "         0.75912151],\n",
       "       [ 0.        ,  0.        ,  0.        ,  0.        ,  0.        ,\n",
       "         0.        ,  0.        ,  0.        ,  0.        ,  0.        ,\n",
       "         0.        ,  0.        ,  0.        ,  0.        ,  0.        ,\n",
       "        -0.03102811,  1.64550362, -0.67290696,  0.50320797,  1.3224414 ,\n",
       "        -0.3657162 ],\n",
       "       [ 0.        ,  0.        ,  0.        ,  0.        ,  0.        ,\n",
       "         0.        ,  0.        ,  0.        ,  0.        ,  0.        ,\n",
       "         0.        ,  0.        ,  0.        ,  0.        ,  0.        ,\n",
       "         0.74857596,  0.47777219,  0.35431389, -2.16402581, -1.58742407,\n",
       "        -0.54193239]])"
      ]
     },
     "execution_count": 101,
     "metadata": {},
     "output_type": "execute_result"
    }
   ],
   "source": [
    "B"
   ]
  },
  {
   "cell_type": "markdown",
   "metadata": {},
   "source": [
    "### Generating a smooth signals dataset "
   ]
  },
  {
   "cell_type": "markdown",
   "metadata": {},
   "source": [
    "*(from Hansen J., \"Learning sheaf Laplacians from smooth signals\")* \n",
    "\n",
    "In order to retrieve a dataset of smoothsignals, first of all we sample random gaussians vectors on the nodes of the graph. Then we smooth them according to their expansion in terms of the eigenvectors of the sheaf Laplacian $L_0$."
   ]
  },
  {
   "cell_type": "markdown",
   "metadata": {},
   "source": [
    "So let's firstly define a dataset of random gaussian vectors. "
   ]
  },
  {
   "cell_type": "code",
   "execution_count": 102,
   "metadata": {},
   "outputs": [],
   "source": [
    "N = 100\n",
    "X = np.random.randn(V*d,N)"
   ]
  },
  {
   "cell_type": "markdown",
   "metadata": {},
   "source": [
    "Now we'll use the Fourier-domain embedded in the Laplacian spectrum. "
   ]
  },
  {
   "cell_type": "markdown",
   "metadata": {},
   "source": [
    "We'll consider a Tikhonov inspired procedure where we firstly project our dataset over the space spanned by the eigenvectors of the sheaf laplacian: namely $U$ the matrix collecting this eigenvectors we have \n",
    "\\begin{equation}\n",
    "    \\hat{x} = U^T x\n",
    "\\end{equation}\n",
    "\n",
    "So that defining $h(\\lambda) = \\frac{1}{1 + 10\\lambda}$ and $H = \\mathrm{diag}\\{h(\\lambda)\\}_{\\lambda}$, we now have\n",
    "\n",
    "\\begin{equation}\n",
    "    \\hat{y} = H(\\Lambda) \\hat{x}\n",
    "\\end{equation}\n",
    "\n",
    "and finally our dataset is just reprojected back into the vertex domain:\n",
    "\n",
    "\\begin{equation}\n",
    "    y = U H(\\Lambda) \\hat{x} = U H(\\Lambda) U^T x\n",
    "\\end{equation}"
   ]
  },
  {
   "cell_type": "code",
   "execution_count": 103,
   "metadata": {},
   "outputs": [],
   "source": [
    "Lambda, U = np.linalg.eig(L_f)\n",
    "H = 1/(1 + 10*Lambda)"
   ]
  },
  {
   "cell_type": "code",
   "execution_count": 104,
   "metadata": {},
   "outputs": [],
   "source": [
    "Y = U @ np.diag(H) @ U.T @ X"
   ]
  },
  {
   "cell_type": "markdown",
   "metadata": {},
   "source": [
    "Now we deploy the linear map learning strategy. If we consider each of the linear maps connecting the stalks over the nodes with the stalk of the inciding edge, we have that the minimum total variation on the Laplacian can be rewritten as:\n",
    "\n",
    "\\begin{equation}\n",
    "    \\min_{\\mathcal{F}_{u \\triangleleft e}, \\mathcal{F}_{v \\triangleleft e}, e \\in E} \\frac{1}{2} \\sum_{e \\in E} \\sum_{i=1}^N ||\\mathcal{F}_{u \\triangleleft e}x_u^i - \\mathcal{F}_{v \\triangleleft e}x_v^i||_F^2\n",
    "\\end{equation}\n",
    "\n",
    "Clearly this problem can be decomposed into the contribution of each of the edges, requiring us to solve a subproblem for each of the possible edges: \n",
    "\n",
    "\\begin{equation}\n",
    "    \\min_{\\mathcal{F}_{u \\triangleleft e}, \\mathcal{F}_{v \\triangleleft e}} \\frac{1}{2} \\sum_{i=1}^N ||\\mathcal{F}_{u \\triangleleft e}x_u^i - \\mathcal{F}_{v \\triangleleft e}x_v^i||_F^2\n",
    "\\end{equation}\n",
    "\n",
    "This problem can be solved in a successive convex approximation fashion, being block-wise convex: the update equations are: \n",
    "\n",
    "\\begin{gather}\n",
    "    \\hat{{\\mathcal{F}}}_{u \\triangleleft e} = {\\mathcal{F}_{v \\triangleleft e}} (X_vX_u^T) (X_uX_u^T)^{-1} \\\\ \\nonumber\n",
    "    \\hat{{\\mathcal{F}}}_{v \\triangleleft e} = {\\mathcal{F}_{u \\triangleleft e}} (X_uX_v^T) (X_vX_v^T)^{-1}\n",
    "\\end{gather}\n",
    "\n",
    "In the end we can compute the total energy related to each edge: this means that if we sort out all the edges with respect to this measure we can rebuild the laplacian considering the given $t_0$ number of edges and the associated linear maps. "
   ]
  },
  {
   "cell_type": "code",
   "execution_count": 105,
   "metadata": {},
   "outputs": [],
   "source": [
    "# Alternated Linear Maps Learning\n",
    "\n",
    "def ALML(X_u, X_v, d, T = 500):\n",
    "    # Initialization \n",
    "\n",
    "    F_u = np.random.randn(d)\n",
    "    F_v = np.random.randn(d)\n",
    "    gamma = 0.99\n",
    "\n",
    "    # This matrices can be computed out of the learning loop \n",
    "\n",
    "    vu = X_v @ X_u.T\n",
    "    uv = X_u @ X_v.T\n",
    "    uu = np.linalg.inv(X_u @ X_u.T)\n",
    "    vv = np.linalg.inv(X_v @ X_v.T)\n",
    "\n",
    "    # Alternated learning through blockwise convex programs\n",
    "\n",
    "    for _ in range(T): \n",
    "        # Local step\n",
    "        F_u_hat = F_v @ vu @ uu\n",
    "        F_v_hat = F_u @ uv @ vv\n",
    "\n",
    "        # Convex smoothing\n",
    "        F_u = F_u + gamma*(F_u_hat - F_u)\n",
    "        F_v = F_v + gamma*(F_v_hat - F_v)\n",
    "\n",
    "        gamma *= 0.9\n",
    "        \n",
    "    return F_u, F_v "
   ]
  },
  {
   "cell_type": "code",
   "execution_count": 106,
   "metadata": {},
   "outputs": [],
   "source": [
    "all_edges = list(combinations(nodes, 2))\n",
    "maps = {\n",
    "    e:{\n",
    "        e[0] : np.zeros((3,3)), \n",
    "        e[1] : np.zeros((3,3))\n",
    "        } \n",
    "    for e in all_edges\n",
    "    }\n",
    "\n",
    "energies = {\n",
    "    e : 0\n",
    "    for e in all_edges\n",
    "    }"
   ]
  },
  {
   "cell_type": "code",
   "execution_count": 107,
   "metadata": {},
   "outputs": [
    {
     "name": "stderr",
     "output_type": "stream",
     "text": [
      "100%|██████████| 21/21 [00:00<00:00, 173.55it/s]\n"
     ]
    }
   ],
   "source": [
    "for e in tqdm(all_edges):\n",
    "    u = e[0]\n",
    "    v = e[1]\n",
    "\n",
    "    X_u = Y[u*d:(u+1)*d,:]\n",
    "    X_v = Y[v*d:(v+1)*d,:]\n",
    "\n",
    "    F_u, F_v = ALML(X_u, X_v, d, T = 500)\n",
    "\n",
    "    maps[e][u] = F_u\n",
    "    maps[e][v] = F_v\n",
    "\n",
    "    L = 0\n",
    "\n",
    "    for i in range(100):\n",
    "        x_u = X_u[:,i]\n",
    "        x_v = X_v[:,i]\n",
    "        L += np.linalg.norm(F_u @ x_u - F_v @ x_v)\n",
    "        \n",
    "    energies[e] = L"
   ]
  },
  {
   "cell_type": "code",
   "execution_count": 108,
   "metadata": {},
   "outputs": [],
   "source": [
    "retrieved = sorted(energies.items(), key=lambda x:x[1])[:E]"
   ]
  },
  {
   "cell_type": "code",
   "execution_count": 111,
   "metadata": {},
   "outputs": [],
   "source": [
    "B_hat = np.zeros((d*E, d*V))\n",
    "\n",
    "for i in range(10):\n",
    "    edge = retrieved[i][0]\n",
    "\n",
    "    u = edge[0] \n",
    "    v = edge[1] \n",
    "\n",
    "    B_u = maps[edge][u]\n",
    "    B_v = maps[edge][v]\n",
    "\n",
    "    B_hat[i*d:(i+1)*d, u*d:(u+1)*d] = B_u\n",
    "    B_hat[i*d:(i+1)*d, v*d:(v+1)*d] = - B_v\n",
    "\n",
    "L_f_hat = B_hat.T @ B_hat"
   ]
  },
  {
   "cell_type": "code",
   "execution_count": 112,
   "metadata": {},
   "outputs": [
    {
     "data": {
      "text/plain": [
       "39.925487463471306"
      ]
     },
     "execution_count": 112,
     "metadata": {},
     "output_type": "execute_result"
    }
   ],
   "source": [
    "np.linalg.norm(L_f - L_f_hat)"
   ]
  },
  {
   "cell_type": "code",
   "execution_count": null,
   "metadata": {},
   "outputs": [],
   "source": []
  }
 ],
 "metadata": {
  "kernelspec": {
   "display_name": "Python 3",
   "language": "python",
   "name": "python3"
  },
  "language_info": {
   "codemirror_mode": {
    "name": "ipython",
    "version": 3
   },
   "file_extension": ".py",
   "mimetype": "text/x-python",
   "name": "python",
   "nbconvert_exporter": "python",
   "pygments_lexer": "ipython3",
   "version": "3.10.7"
  }
 },
 "nbformat": 4,
 "nbformat_minor": 2
}
