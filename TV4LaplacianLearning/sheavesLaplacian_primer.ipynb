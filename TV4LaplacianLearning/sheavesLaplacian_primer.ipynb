{
 "cells": [
  {
   "cell_type": "markdown",
   "metadata": {},
   "source": [
    "# Cellular sheaves on graphs \n",
    "## Learning sheaf laplacian through minimum total variation approach "
   ]
  },
  {
   "cell_type": "markdown",
   "metadata": {},
   "source": [
    "________________"
   ]
  },
  {
   "cell_type": "markdown",
   "metadata": {},
   "source": [
    "# A sharing optimization approach to the problem through ADMM"
   ]
  },
  {
   "cell_type": "markdown",
   "metadata": {},
   "source": [
    "The problem we want to solve is the following one: \n",
    "$$\\underset{L}{\\mathrm{min}} \\ \\ \\mathrm{tr}(X^TLX)$$\n",
    "\n",
    "that can be recasted as following:\n",
    "$$\\underset{\\{B_e^TB_e\\}_{e \\in \\mathcal{E}}}{\\mathrm{min}} \\ \\ \\mathrm{tr}(\\sum_e X^TB_e^TB_eX)$$\n",
    "\n",
    "Leveraging trace linearity and adding the regularization term we finally have:\n",
    "\n",
    "$$\\underset{\\{B_e^TB_e\\}_{e \\in \\mathcal{E}}}{\\mathrm{min}} \\ \\ \\sum_e \\mathrm{tr}(X^TB_e^TB_eX) - \\lambda \\log \\mathrm{det} (\\sum_e B_e^TB_e)$$\n",
    "\n",
    "This problem is a sharing optimization one where we are basically linking the local optimization over each possible edge to the global learning problem of the laplacian. We can leverage decomposition over the local optimization, while we have no decomposition on the regularization term. If we use the usual techniques of decoupling likelihood and regularization, we get the following problem: \n",
    "\\begin{cases}\n",
    "\\underset{{\\{B_e^T B_e\\}}_{e \\in \\mathcal{E}}}{\\mathrm{min}} \\sum_e tr(X^TB_e^TB_eX) - \\lambda \\log \\mathrm{det}(\\sum_e D_e^T D_e) \\\\\n",
    "\\ \\ \\ \\ \\ \\ \\ \\ \\ \\ \\ \\ \\ \\ \\ B_e^TB_e - D_e^TD_e = 0, \\ \\ \\ \\ \\ \\ \\ \\forall e \\in \\mathcal{E}\n",
    "\\end{cases}\n",
    "This problem can be solved in an ADMM fashion with respect to the quadratic terms: this will help us in recasting the step $(2)$ using the usual trick in dealing with shared optimization to decrease the number of variables. \n",
    "\\begin{gather}\n",
    "(B_e^TB_e)^{k+1} = \\underset{B_e^TB_e}{\\mathrm{argmin}} \\{ \\mathrm{tr}(X^TB_e^TB_eX) + \\frac{\\rho}{2}||B_e^TB_e - (D_e^TD_e)^k + u_e^k||^2\\} \\\\ \n",
    "\\{D_e^TD_e\\}^{k+1}_{e \\in \\mathcal{E}} = \\underset{\\{D_e^TD_e\\}_{e \\in \\mathcal{E}} }{\\mathrm{argmin}} \\{ -\\lambda \\log \\mathrm{det} (\\sum_e D_e^TD_e) + \\frac{\\rho}{2} ||(B_e^TB_e)^{k+1} - D_e^TD_e + u_e^k||^2\\} \\\\ \n",
    "u_e^{k+1} = u_e^k + [(B_e^TB_e)^{k+1} - (D_e^TD_e)^{k+1}]\n",
    "\\end{gather}"
   ]
  },
  {
   "cell_type": "markdown",
   "metadata": {},
   "source": [
    "## The global update"
   ]
  },
  {
   "cell_type": "markdown",
   "metadata": {},
   "source": [
    "\n",
    "Let's focus for now on step $(2)$ that will yield a proximal mapping step if treaten properly. Setting \n",
    "$$ \\overline{L} = \\frac{1}{E}\\sum_e D_e^TD_e, \\ \\ \\ E = |\\mathcal{E}| $$\n",
    "$$ a_e = (B_e^TB_e)^{k+1} + u_e^k $$\n",
    "we can rewrite step $(2)$ as following:\n",
    "\n",
    "\\begin{cases}\n",
    "\\underset{\\{D_e^TD_e\\}_{e \\in \\mathcal{E}}}{\\mathrm{min}} \\ \\ \\ -\\lambda \\log \\mathrm{det} (E \\overline{L}) + \\frac{\\rho}{2} ||D_e^TD_e - a_e||^2 \\\\ \\nonumber\n",
    "\\ \\ \\ \\ \\ \\ \\ \\ \\ \\ \\ \\ \\ \\ \\ \\ \\ \\  \\overline{L} - \\frac{1}{E}\\sum_e D_e^TD_e = 0\n",
    "\\end{cases}\n",
    "The lagrangian of the problem is \n",
    "\n",
    "$$ \\mathcal{L} = -\\lambda \\log \\mathrm{det} (E \\overline {L}) + \\frac{\\rho}{2} ||D_e^TD_e - a_e||^2 + \\nu (\\overline{L} - \\frac{1}{E}\\sum_e D_e^TD_e) $$\n",
    "So that\n",
    "\n",
    "$$ \\frac{\\partial \\mathcal{L}}{\\partial D_e^TD_e} = \\rho(D_e^TD_e - a_e) - \\frac{\\nu}{E} = 0 $$\n",
    "\n",
    "implying the following\n",
    "\n",
    "$$ D_e^TD_e = a_e + \\frac{\\nu}{\\rho E}$$\n",
    "Now we can rewrite $\\overline{L}$ as \n",
    "$$ \\overline{L} = \\frac{1}{E}\\sum_e D_e^TD_e = \\frac{1}{E}\\sum_e (a_e + \\frac{\\nu}{\\rho E}) = \\overline{a} + \\frac{\\nu}{\\rho E} $$\n",
    "\n",
    "so that \n",
    "\n",
    "$$ \\frac{\\nu}{\\rho E} = \\overline{L} - \\overline{a} $$\n",
    "Finally we have the following $(4)$: \n",
    "\n",
    "$$ (D_e^TD_e) ^{k+1} = a_e + \\overline{L} - \\overline{a} = (B_e^TB_e)^{k+1} + u_e^k + \\overline{L} - (\\overline{B_e^TB_e})^{k+1} - \\overline{u}^k $$\n",
    "\n",
    "This means that the multipliers are shared in the following way: \n",
    "\n",
    "$$ u_e^{k+1} = \\bcancel{u_e ^ k} + \\bcancel{(B_e^TB_e)^{k+1}} - \\bcancel{(B_e^TB_e)^{k+1}}  - \\bcancel{u_e^k} - \\overline{L} + (\\overline{B_e^TB_e})^{k+1} + \\overline{u}^k $$\n",
    "$$ u^{k+1} = u^k + [(\\overline{B_e^TB_e})^{k+1} - \\overline{L}^{k+1}] $$"
   ]
  },
  {
   "cell_type": "markdown",
   "metadata": {},
   "source": [
    "Plugging $(4)$ into $(1)$ we get the following update equation: \n",
    "\n",
    "$$ (B_e^TB_e)^{k+1} = \\underset{B_e^TB_e}{\\mathrm{argmin}} \\ \\ \\ \\  \\{ \\mathrm{tr}(X^TB_e^TB_eX) + \\frac{\\rho}{2}||B_e^TB_e - (B_e^TB_e)^{k} - \\overline{L}^k + (\\overline{B_e^TB_e})^{k} + \\overline{u}^k||^2\\} $$"
   ]
  },
  {
   "cell_type": "markdown",
   "metadata": {},
   "source": [
    "Now we should highlight that plugging $(4)$ into $(2)$ we get\n",
    "\n",
    "$$ \\overline{L}^{k+1} = \\underset{\\overline{L}}{\\mathrm{argmin}} \\{ -\\lambda \\log \\mathrm{det} (E\\overline{L}) + \\frac{\\rho E}{2} || \\overline{L} - (\\overline{B_e^TB_e}^{k+1} + u^k) || ^ 2\\} $$\n",
    "\n",
    "which is nothing but|\n",
    "$$ \\overline{L}^{k+1} = \\mathrm{prox}_{-\\frac{\\lambda}{\\rho E} \\log \\mathrm{det}} (\\overline{B_e^TB_e}^{k+1} + u^k) $$\n"
   ]
  },
  {
   "cell_type": "markdown",
   "metadata": {},
   "source": [
    "We can leverage the results of *H. H. Bauschke and P. L. Combettes: Convex Analysis and Monotone Operator Theory in Hilbert Spaces (2nd Edition). Springer, New York, 2017* in deriving the proximal mapping of the logdet of a symmetric positive semidefinite matrix, which $\\overline{L}$ is by design. In particular, given $X \\in \\mathbb{R}^{n \\times n}$ and its spectral decomposition $X = U^T \\mathrm{Diag}(s) U$, the proximal mapping of $-\\log\\det(X)$ is\n",
    " \n",
    "\\begin{equation}\n",
    "\\mathrm{prox}_{-\\gamma\\log\\det} (X)= U \\ \\mathrm{Diag}(z) \\ U^T, \\ z = \\frac{1}{2}(s + \\sqrt{s^2 + 4\\gamma})\n",
    "\\end{equation}"
   ]
  },
  {
   "cell_type": "markdown",
   "metadata": {},
   "source": [
    "## The local updates"
   ]
  },
  {
   "cell_type": "markdown",
   "metadata": {},
   "source": [
    "Up to now we have collected the following ADMM scheme: \n",
    "\n",
    "\\begin{gather}\n",
    "(B_e^TB_e)^{k+1} = \\underset{B_e^TB_e}{\\mathrm{argmin}} \\ \\ \\ \\  \\{ \\mathrm{tr}(X^TB_e^TB_eX) + \\frac{\\rho}{2}||B_e^TB_e - (B_e^TB_e)^{k} - \\overline{L}^k + (\\overline{B_e^TB_e})^{k} + u^k||^2\\} \\\\ \n",
    "\\overline{L}^{k+1} = \\mathrm{prox}_{-\\frac{\\lambda}{\\rho E} \\log \\mathrm{det}} (\\overline{B_e^TB_e}^{k+1} + u^k) \\\\\n",
    "u^{k+1} = u^k + [(\\overline{B_e^TB_e})^{k+1} - \\overline{L}^{k+1}]\n",
    "\\end{gather}"
   ]
  },
  {
   "cell_type": "markdown",
   "metadata": {},
   "source": [
    "Let's now focus on step $(1)$, trying to define a proper learning procedure. First of all, notice that:"
   ]
  },
  {
   "cell_type": "markdown",
   "metadata": {},
   "source": [
    "$$ \\mathrm{tr}(X^TB_e^TB_eX) = ||B_eX||^2 = ||\\mathcal{F}_{u \\triangleleft e}X_u - \\mathcal{F}_{v \\triangleleft e}X_v||^2 $$"
   ]
  },
  {
   "cell_type": "markdown",
   "metadata": {},
   "source": [
    "Secondly, we can also reason similarly to the second term in the function, proposing the following decomposition: \n",
    "\n",
    "$$ \\frac{\\rho}{2}||B_e^TB_e - (B_e^TB_e)^{k} - \\overline{L}^k + (\\overline{B_e^TB_e})^{k} + \\overline{u}^k||^2 = \\frac{\\rho}{2} [l_{(u,u)}^2 + l_{(u,v)}^2 + l_{(v,u)}^2 + l_{(v,v)}^2] $$"
   ]
  },
  {
   "cell_type": "markdown",
   "metadata": {},
   "source": [
    "where \n",
    "\n",
    "\\begin{gather}\n",
    "l_{(u,u)}^2 = || \\mathcal{F}_{u \\triangleleft e}^T \\mathcal{F}_{u \\triangleleft e} - (\\mathcal{F}_{u \\triangleleft e}^T \\mathcal{F}_{u \\triangleleft e})^k - \\overline{L}^k_{(u,u)} + (\\overline{B_e^TB_e})^{k}_{(u,u)} + u^k_{(u,u)} || ^2 \\\\ \\nonumber\n",
    "l_{(u,v)}^2 = || - \\mathcal{F}_{u \\triangleleft e}^T \\mathcal{F}_{v \\triangleleft e} + (\\mathcal{F}_{u \\triangleleft e}^T \\mathcal{F}_{v \\triangleleft e})^k - \\overline{L}^k_{(u,v)} + (\\overline{B_e^TB_e})^{k}_{(u,v)} + u^k_{(u,v)} || ^2 \\\\ \\nonumber\n",
    "l_{(v,u)}^2 = || - \\mathcal{F}_{v \\triangleleft e}^T \\mathcal{F}_{u \\triangleleft e} + (\\mathcal{F}_{u \\triangleleft e}^T \\mathcal{F}_{v \\triangleleft e})^k - \\overline{L}^k_{(v,u)} + (\\overline{B_e^TB_e})^{k}_{(v,u)} + u^k_{(v,u)} || ^2 \\\\ \\nonumber\n",
    "l_{(v,v)}^2 = || \\mathcal{F}_{v \\triangleleft e}^T \\mathcal{F}_{v \\triangleleft e} - (\\mathcal{F}_{v \\triangleleft e}^T \\mathcal{F}_{v \\triangleleft e})^k - \\overline{L}^k_{(v,v)} + (\\overline{B_e^TB_e})^{k}_{(v,v)} + u^k_{(v,v)} || ^2 \\\\ \\nonumber\n",
    "\\end{gather}"
   ]
  },
  {
   "cell_type": "markdown",
   "metadata": {},
   "source": [
    "We can recast the local update as a biconvex problem in the restriction maps of edge $e$: \n",
    "\n",
    "$$ \\underset{\\mathcal{F}_{u \\triangleleft e}, \\mathcal{F}_{v \\triangleleft e}}{\\mathrm{min}} \\frac{1}{2} ||\\mathcal{F}_{u \\triangleleft e}X_u - \\mathcal{F}_{v \\triangleleft e}X_v||^2 + \\frac{\\rho}{2} [l_{(u,u)}^2 + l_{(u,v)}^2 + l_{(v,u)}^2 + l_{(v,v)}^2] = \\underset{\\mathcal{F}_{u \\triangleleft e}, \\mathcal{F}_{v \\triangleleft e}}{\\mathrm{min}} G(\\mathcal{F}_{u \\triangleleft e}, \\mathcal{F}_{v \\triangleleft e})$$"
   ]
  },
  {
   "cell_type": "markdown",
   "metadata": {},
   "source": [
    "Being a biconvex problem, we can tackle it through an inexact successive convex approximation procedure, where each of the block is updated through a gradient based numeric approximation:\n",
    "$$ \\frac{\\partial}{\\partial \\mathcal{F}_{u \\triangleleft e}} G(\\mathcal{F}_{u \\triangleleft e}, \\mathcal{F}_{v \\triangleleft e}) = (\\mathcal{F}_{u \\triangleleft e}X_u - \\mathcal{F}_{v \\triangleleft e}X_v)X_u^T + \\rho[\\mathcal{F}_{u \\triangleleft e}l_{(u,u)} - 2\\mathcal{F}_{v \\triangleleft e}l_{(v,u)}] $$\n",
    "\n",
    "$$ \\frac{\\partial}{\\partial \\mathcal{F}_{v \\triangleleft e}} G(\\mathcal{F}_{u \\triangleleft e}, \\mathcal{F}_{v \\triangleleft e}) = -(\\mathcal{F}_{u \\triangleleft e}X_u - \\mathcal{F}_{v \\triangleleft e}X_v)X_v^T + \\rho[- 2\\mathcal{F}_{u \\triangleleft e}l_{(u,v)} + \\mathcal{F}_{v \\triangleleft e}l_{(v,v)} ] $$"
   ]
  },
  {
   "cell_type": "markdown",
   "metadata": {},
   "source": [
    "________________________________________________________"
   ]
  },
  {
   "cell_type": "markdown",
   "metadata": {},
   "source": [
    "### Generating a toy-case topology"
   ]
  },
  {
   "cell_type": "code",
   "execution_count": null,
   "metadata": {},
   "outputs": [],
   "source": [
    "import numpy as np \n",
    "from matplotlib import pyplot as plt\n",
    "\n",
    "np.random.seed(42)"
   ]
  },
  {
   "cell_type": "code",
   "execution_count": null,
   "metadata": {},
   "outputs": [],
   "source": [
    "# Let's generate a toy topology for our example\n",
    "\n",
    "nodes = [i for i in range(7)]\n",
    "edges = [\n",
    "    (0,1),\n",
    "    (0,2),\n",
    "    (0,6),\n",
    "    (1,3),\n",
    "    (1,5),\n",
    "    (2,3),\n",
    "    (2,4),\n",
    "    (3,4),\n",
    "    (4,6),\n",
    "    (5,6)\n",
    "]\n",
    "\n",
    "V = 7\n",
    "E = len(edges)\n",
    "\n",
    "d = 3                                           # Node and edges stalks dimension\n",
    "\n",
    "F = {\n",
    "    e:{\n",
    "        e[0]:np.random.randn(3,3),\n",
    "        e[1]:np.random.randn(3,3)\n",
    "        } \n",
    "        for e in edges\n",
    "    }                                           # Incidency linear maps\n",
    "\n",
    "# Graph representation\n",
    "\n",
    "A = np.zeros((7,7))\n",
    "\n",
    "for edge in edges:\n",
    "    u = edge[0] \n",
    "    v = edge[1] \n",
    "\n",
    "    A[u,v] = 1\n",
    "    A[v,u] = 1\n",
    "\n",
    "D = np.diag(np.sum(A, axis = 0))\n",
    "L = D - A\n",
    "\n",
    "# Sheaf representation \n",
    "\n",
    "# Coboundary map\n",
    "\n",
    "B = np.zeros((d*E, d*V))\n",
    "\n",
    "for i in range(len(edges)):\n",
    "    edge = edges[i]\n",
    "\n",
    "    u = edge[0] \n",
    "    v = edge[1] \n",
    "\n",
    "    B_u = F[edge][u]\n",
    "    B_v = F[edge][v]\n",
    "\n",
    "    B[i*d:(i+1)*d, u*d:(u+1)*d] = B_u\n",
    "    B[i*d:(i+1)*d, v*d:(v+1)*d] = - B_v\n",
    "\n",
    "# Sheaf Laplacian\n",
    "\n",
    "L_f = B.T @ B"
   ]
  },
  {
   "cell_type": "markdown",
   "metadata": {},
   "source": [
    "# Generating a smooth signals dataset "
   ]
  },
  {
   "cell_type": "markdown",
   "metadata": {},
   "source": [
    "*(from Hansen J., \"Learning sheaf Laplacians from smooth signals\")* \n",
    "\n",
    "In order to retrieve a dataset of smoothsignals, first of all we sample random gaussians vectors on the nodes of the graph. Then we smooth them according to their expansion in terms of the eigenvectors of the sheaf Laplacian $L_0$."
   ]
  },
  {
   "cell_type": "markdown",
   "metadata": {},
   "source": [
    "So let's firstly define a dataset of random gaussian vectors. "
   ]
  },
  {
   "cell_type": "code",
   "execution_count": null,
   "metadata": {},
   "outputs": [],
   "source": [
    "N = 100\n",
    "X = np.random.randn(V*d,N)"
   ]
  },
  {
   "cell_type": "markdown",
   "metadata": {},
   "source": [
    "Now we'll use the Fourier-domain embedded in the Laplacian spectrum. "
   ]
  },
  {
   "cell_type": "markdown",
   "metadata": {},
   "source": [
    "We'll consider a Tikhonov inspired procedure where we firstly project our dataset over the space spanned by the eigenvectors of the sheaf laplacian: namely $U$ the matrix collecting this eigenvectors we have \n",
    "\\begin{equation}\n",
    "    \\hat{x} = U^T x\n",
    "\\end{equation}\n",
    "\n",
    "So that defining $h(\\lambda) = \\frac{1}{1 + 10\\lambda}$ and $H = \\mathrm{diag}\\{h(\\lambda)\\}_{\\lambda}$, we now have\n",
    "\n",
    "\\begin{equation}\n",
    "    \\hat{y} = H(\\Lambda) \\hat{x}\n",
    "\\end{equation}\n",
    "\n",
    "and finally our dataset is just reprojected back into the vertex domain:\n",
    "\n",
    "\\begin{equation}\n",
    "    y = U H(\\Lambda) \\hat{x} = U H(\\Lambda) U^T x\n",
    "\\end{equation}"
   ]
  },
  {
   "cell_type": "code",
   "execution_count": null,
   "metadata": {},
   "outputs": [],
   "source": [
    "Lambda, U = np.linalg.eig(L_f)\n",
    "H = 1/(1 + 10*Lambda)"
   ]
  },
  {
   "cell_type": "code",
   "execution_count": null,
   "metadata": {},
   "outputs": [],
   "source": [
    "Y = U @ np.diag(H) @ U.T @ X\n",
    "\n",
    "Y += np.random.normal(0, 10e-2, size=Y.shape)"
   ]
  },
  {
   "cell_type": "code",
   "execution_count": null,
   "metadata": {},
   "outputs": [
    {
     "data": {
      "text/plain": [
       "16119.899062147002"
      ]
     },
     "metadata": {},
     "output_type": "display_data"
    }
   ],
   "source": [
    "np.trace(X.T @ L_f @ X)"
   ]
  },
  {
   "cell_type": "code",
   "execution_count": null,
   "metadata": {},
   "outputs": [
    {
     "data": {
      "text/plain": [
       "174.55977674934778"
      ]
     },
     "metadata": {},
     "output_type": "display_data"
    }
   ],
   "source": [
    "np.trace(Y.T @ L_f @ Y)"
   ]
  },
  {
   "cell_type": "markdown",
   "metadata": {},
   "source": [
    "_________________________"
   ]
  },
  {
   "cell_type": "markdown",
   "metadata": {},
   "source": [
    "### A first test"
   ]
  },
  {
   "cell_type": "markdown",
   "metadata": {},
   "source": [
    "Let's try our centralized procedure over our toy case topology. "
   ]
  },
  {
   "cell_type": "code",
   "execution_count": 11,
   "metadata": {},
   "outputs": [
    {
     "name": "stderr",
     "output_type": "stream",
     "text": [
      "100%|██████████| 100/100 [14:12<00:00,  8.53s/it]\n"
     ]
    }
   ],
   "source": [
    "from controller import learning\n",
    "\n",
    "restriction_maps = learning(7, 3, Y, 3e-3, 0.005, 0.9, 0.5, 100, 100, 100)"
   ]
  },
  {
   "cell_type": "code",
   "execution_count": 14,
   "metadata": {},
   "outputs": [
    {
     "data": {
      "text/plain": [
       "{(0,\n",
       "  1): {0: array([[ 2.59286891,  1.83740548, -0.40144171],\n",
       "         [-3.52590426,  3.31043466, -0.19966449],\n",
       "         [-0.79854856,  1.3053643 ,  3.2013674 ]]), 1: array([[ 2.59286891,  1.83740548, -0.40144171],\n",
       "         [-3.52590426,  3.31043466, -0.19966449],\n",
       "         [-0.79854856,  1.3053643 ,  3.2013674 ]])},\n",
       " (0,\n",
       "  2): {0: array([[ 0.4019163 , -3.91362662,  1.49391902],\n",
       "         [ 2.5813583 ,  0.72554093,  0.54304764],\n",
       "         [-0.92624973,  1.96917009,  2.8113679 ]]), 2: array([[ 0.4019163 , -3.91362662,  1.49391902],\n",
       "         [ 2.5813583 ,  0.72554093,  0.54304764],\n",
       "         [-0.92624973,  1.96917009,  2.8113679 ]])},\n",
       " (0,\n",
       "  3): {0: array([[ 2.0530941 , -2.396955  ,  1.74036199],\n",
       "         [ 2.3584989 ,  1.81786481, -0.92974976],\n",
       "         [-0.14303011,  2.13952162,  2.62357527]]), 3: array([[ 2.0530941 , -2.396955  ,  1.74036199],\n",
       "         [ 2.3584989 ,  1.81786481, -0.92974976],\n",
       "         [-0.14303011,  2.13952162,  2.62357527]])},\n",
       " (0,\n",
       "  4): {0: array([[ 1.3442894 ,  2.67156977, -0.29267564],\n",
       "         [-2.75676838,  1.5140727 , -1.78609626],\n",
       "         [-1.97094608,  1.35589355,  2.53467355]]), 4: array([[ 1.3442894 ,  2.67156977, -0.29267564],\n",
       "         [-2.75676838,  1.5140727 , -1.78609626],\n",
       "         [-1.97094608,  1.35589355,  2.53467355]])},\n",
       " (0,\n",
       "  5): {0: array([[ 2.44020267,  1.83142602, -0.12774364],\n",
       "         [-1.76374098,  0.03267779,  1.54983619],\n",
       "         [ 1.69554056, -0.39968708,  2.52544507]]), 5: array([[ 2.44020267,  1.83142602, -0.12774364],\n",
       "         [-1.76374098,  0.03267779,  1.54983619],\n",
       "         [ 1.69554056, -0.39968708,  2.52544507]])},\n",
       " (0,\n",
       "  6): {0: array([[ 2.54117055,  0.44274978, -1.72343164],\n",
       "         [ 0.95676462,  2.03953403,  2.68338771],\n",
       "         [ 1.47590705, -2.00534591,  1.0790459 ]]), 6: array([[ 2.54117055,  0.44274978, -1.72343164],\n",
       "         [ 0.95676462,  2.03953403,  2.68338771],\n",
       "         [ 1.47590705, -2.00534591,  1.0790459 ]])},\n",
       " (1,\n",
       "  2): {1: array([[-2.85799625, -1.28275456,  1.51643821],\n",
       "         [ 0.19771408, -1.82178022, -0.40380367],\n",
       "         [ 1.30640284,  0.42578373,  2.71435631]]), 2: array([[-2.85799625, -1.28275456,  1.51643821],\n",
       "         [ 0.19771408, -1.82178022, -0.40380367],\n",
       "         [ 1.30640284,  0.42578373,  2.71435631]])},\n",
       " (1,\n",
       "  3): {1: array([[ 0.65316536,  2.41880942, -0.62522413],\n",
       "         [-3.14671356,  0.2389584 ,  1.61918412],\n",
       "         [ 1.21774931,  0.20409645,  2.92630213]]), 3: array([[ 0.65316536,  2.41880942, -0.62522413],\n",
       "         [-3.14671356,  0.2389584 ,  1.61918412],\n",
       "         [ 1.21774931,  0.20409645,  2.92630213]])},\n",
       " (1,\n",
       "  4): {1: array([[ 0.15804884, -2.02311733, -1.39603664],\n",
       "         [ 2.33794533,  2.07161796, -0.10279193],\n",
       "         [ 0.82528706, -0.5748092 ,  2.37600021]]), 4: array([[ 0.15804884, -2.02311733, -1.39603664],\n",
       "         [ 2.33794533,  2.07161796, -0.10279193],\n",
       "         [ 0.82528706, -0.5748092 ,  2.37600021]])},\n",
       " (1,\n",
       "  5): {1: array([[ 3.11589123, -3.4350297 ,  0.38669164],\n",
       "         [ 0.44313438,  1.42766064, -2.7936276 ],\n",
       "         [ 0.93562421,  3.11603008,  1.54863968]]), 5: array([[ 3.11589123, -3.4350297 ,  0.38669164],\n",
       "         [ 0.44313438,  1.42766064, -2.7936276 ],\n",
       "         [ 0.93562421,  3.11603008,  1.54863968]])},\n",
       " (1,\n",
       "  6): {1: array([[ 2.31747376,  1.59688745,  1.28864284],\n",
       "         [-0.25586711,  2.29904662, -2.83443315],\n",
       "         [-2.45662891,  2.26338682,  0.70546598]]), 6: array([[ 2.31747376,  1.59688745,  1.28864284],\n",
       "         [-0.25586711,  2.29904662, -2.83443315],\n",
       "         [-2.45662891,  2.26338682,  0.70546598]])},\n",
       " (2,\n",
       "  3): {2: array([[ 1.07931655, -1.728828  , -1.99717689],\n",
       "         [-0.85125593,  1.42014762, -2.20663315],\n",
       "         [ 2.71934701,  0.87427732,  1.08278042]]), 3: array([[ 1.07931655, -1.728828  , -1.99717689],\n",
       "         [-0.85125593,  1.42014762, -2.20663315],\n",
       "         [ 2.71934701,  0.87427732,  1.08278042]])},\n",
       " (2,\n",
       "  4): {2: array([[-1.63372628,  0.97150938,  2.61734445],\n",
       "         [ 3.27215336,  1.83845438,  0.47265644],\n",
       "         [-0.86177097,  1.61384648, -0.97433526]]), 4: array([[-1.63372628,  0.97150938,  2.61734445],\n",
       "         [ 3.27215336,  1.83845438,  0.47265644],\n",
       "         [-0.86177097,  1.61384648, -0.97433526]])},\n",
       " (2,\n",
       "  5): {2: array([[ 1.15202977,  2.82916863,  1.95849711],\n",
       "         [-2.46086052, -0.56021151,  2.39384773],\n",
       "         [ 2.06816301, -3.59182128,  2.16915363]]), 5: array([[ 1.15202977,  2.82916863,  1.95849711],\n",
       "         [-2.46086052, -0.56021151,  2.39384773],\n",
       "         [ 2.06816301, -3.59182128,  2.16915363]])},\n",
       " (2,\n",
       "  6): {2: array([[ 2.75828456,  0.80294753, -1.88105046],\n",
       "         [-1.32321856,  3.4459675 , -1.73333388],\n",
       "         [ 1.14272836,  0.84204783,  2.86356897]]), 6: array([[ 2.75828456,  0.80294753, -1.88105046],\n",
       "         [-1.32321856,  3.4459675 , -1.73333388],\n",
       "         [ 1.14272836,  0.84204783,  2.86356897]])},\n",
       " (3,\n",
       "  4): {3: array([[-1.72886883, -2.97122969, -0.39449049],\n",
       "         [ 2.9358189 , -1.1580522 ,  1.83612832],\n",
       "         [-1.52820821,  0.41998779,  3.29299274]]), 4: array([[-1.72886883, -2.97122969, -0.39449049],\n",
       "         [ 2.9358189 , -1.1580522 ,  1.83612832],\n",
       "         [-1.52820821,  0.41998779,  3.29299274]])},\n",
       " (3,\n",
       "  5): {3: array([[ 1.80687202,  3.09953725, -1.36836304],\n",
       "         [-2.41590626,  2.41362947,  0.62106353],\n",
       "         [ 0.74747815,  0.56539633,  2.79646297]]), 5: array([[ 1.80687202,  3.09953725, -1.36836304],\n",
       "         [-2.41590626,  2.41362947,  0.62106353],\n",
       "         [ 0.74747815,  0.56539633,  2.79646297]])},\n",
       " (3,\n",
       "  6): {3: array([[ 1.26867779, -2.32605595, -1.63197367],\n",
       "         [-1.87817112,  0.67641403, -1.99793333],\n",
       "         [ 2.34414726,  2.15603045, -1.12887125]]), 6: array([[ 1.26867779, -2.32605595, -1.63197367],\n",
       "         [-1.87817112,  0.67641403, -1.99793333],\n",
       "         [ 2.34414726,  2.15603045, -1.12887125]])},\n",
       " (4,\n",
       "  5): {4: array([[ 0.90942996, -1.49658745,  3.12622509],\n",
       "         [ 2.83179303,  0.0687628 , -0.58930719],\n",
       "         [-0.91531968,  3.36402612,  0.88768979]]), 5: array([[ 0.90942996, -1.49658745,  3.12622509],\n",
       "         [ 2.83179303,  0.0687628 , -0.58930719],\n",
       "         [-0.91531968,  3.36402612,  0.88768979]])},\n",
       " (4,\n",
       "  6): {4: array([[-0.8997337 , -1.77609362,  3.03729354],\n",
       "         [ 1.24280907,  2.12366764,  1.83521516],\n",
       "         [-2.75362159,  1.79559394, -0.35375892]]), 6: array([[-0.8997337 , -1.77609362,  3.03729354],\n",
       "         [ 1.24280907,  2.12366764,  1.83521516],\n",
       "         [-2.75362159,  1.79559394, -0.35375892]])},\n",
       " (5,\n",
       "  6): {5: array([[ 2.26272255, -0.85488539, -1.02775146],\n",
       "         [ 1.44480004,  2.15784124,  2.21949193],\n",
       "         [-0.75213703, -1.32801423,  1.51569496]]), 6: array([[ 2.26272255, -0.85488539, -1.02775146],\n",
       "         [ 1.44480004,  2.15784124,  2.21949193],\n",
       "         [-0.75213703, -1.32801423,  1.51569496]])}}"
      ]
     },
     "execution_count": 14,
     "metadata": {},
     "output_type": "execute_result"
    }
   ],
   "source": [
    "restriction_maps"
   ]
  },
  {
   "cell_type": "markdown",
   "metadata": {},
   "source": [
    "Let's now retrieve the energy expressed by each edge:"
   ]
  },
  {
   "cell_type": "code",
   "execution_count": 17,
   "metadata": {},
   "outputs": [],
   "source": [
    "energies = {\n",
    "    e : 0\n",
    "    for e in edges\n",
    "    }\n",
    "\n",
    "for e in (edges):\n",
    "    u = e[0]\n",
    "    v = e[1]\n",
    "\n",
    "    X_u = Y[u*d:(u+1)*d,:]\n",
    "    X_v = Y[v*d:(v+1)*d,:]\n",
    "\n",
    "    F_u = restriction_maps[e][u]\n",
    "    F_v = restriction_maps[e][v]\n",
    "\n",
    "    L = 0\n",
    "\n",
    "    for i in range(100):\n",
    "        x_u = X_u[:,i]\n",
    "        x_v = X_v[:,i]\n",
    "        L += np.linalg.norm(F_u @ x_u - F_v @ x_v)\n",
    "        \n",
    "    energies[e] = L"
   ]
  },
  {
   "cell_type": "markdown",
   "metadata": {},
   "source": [
    "We'll consider the first $E_0$ edges sorted accordingly to their energy:"
   ]
  },
  {
   "cell_type": "code",
   "execution_count": 18,
   "metadata": {},
   "outputs": [],
   "source": [
    "retrieved = sorted(energies.items(), key=lambda x:x[1])[:E]"
   ]
  },
  {
   "cell_type": "markdown",
   "metadata": {},
   "source": [
    "Let's reconstruct the sheaf laplacian:"
   ]
  },
  {
   "cell_type": "code",
   "execution_count": 20,
   "metadata": {},
   "outputs": [],
   "source": [
    "B_hat = np.zeros((d*E, d*V))\n",
    "\n",
    "for i in range(E):\n",
    "    edge = retrieved[i][0]\n",
    "\n",
    "    u = edge[0] \n",
    "    v = edge[1] \n",
    "\n",
    "    B_u = restriction_maps[edge][u]\n",
    "    B_v = restriction_maps[edge][v]\n",
    "\n",
    "    B_hat[i*d:(i+1)*d, u*d:(u+1)*d] = B_u\n",
    "    B_hat[i*d:(i+1)*d, v*d:(v+1)*d] = - B_v\n",
    "\n",
    "L_f_hat = B_hat.T @ B_hat"
   ]
  },
  {
   "cell_type": "code",
   "execution_count": 21,
   "metadata": {},
   "outputs": [
    {
     "data": {
      "text/plain": [
       "0.3565510411824826"
      ]
     },
     "execution_count": 21,
     "metadata": {},
     "output_type": "execute_result"
    }
   ],
   "source": [
    "# The metric chosen by Hansen for the evaluation was the average entry-wise euclidean distance\n",
    "\n",
    "np.sqrt(np.sum((L_f - L_f_hat)**2)) / L_f.size"
   ]
  },
  {
   "cell_type": "markdown",
   "metadata": {},
   "source": [
    "Let's see the precision of our procedure:"
   ]
  },
  {
   "cell_type": "code",
   "execution_count": 22,
   "metadata": {},
   "outputs": [
    {
     "data": {
      "text/plain": [
       "1.0"
      ]
     },
     "execution_count": 22,
     "metadata": {},
     "output_type": "execute_result"
    }
   ],
   "source": [
    "len(set(list(map(lambda x: x[0], retrieved))).intersection(set(edges))) / E"
   ]
  },
  {
   "cell_type": "code",
   "execution_count": 23,
   "metadata": {},
   "outputs": [
    {
     "data": {
      "text/plain": [
       "[(0, 1),\n",
       " (0, 2),\n",
       " (0, 6),\n",
       " (1, 3),\n",
       " (1, 5),\n",
       " (2, 3),\n",
       " (2, 4),\n",
       " (3, 4),\n",
       " (4, 6),\n",
       " (5, 6)]"
      ]
     },
     "execution_count": 23,
     "metadata": {},
     "output_type": "execute_result"
    }
   ],
   "source": [
    "edges"
   ]
  },
  {
   "cell_type": "code",
   "execution_count": 24,
   "metadata": {},
   "outputs": [
    {
     "data": {
      "text/plain": [
       "[((5, 6), 67.64859063449107),\n",
       " ((2, 3), 76.17488046464996),\n",
       " ((0, 6), 79.25926590005949),\n",
       " ((1, 3), 84.16374566848813),\n",
       " ((0, 2), 84.7325021317013),\n",
       " ((4, 6), 94.46389850439759),\n",
       " ((1, 5), 95.13987840117207),\n",
       " ((0, 1), 96.56202304266655),\n",
       " ((2, 4), 100.5248011023892),\n",
       " ((3, 4), 112.3885517297865)]"
      ]
     },
     "execution_count": 24,
     "metadata": {},
     "output_type": "execute_result"
    }
   ],
   "source": [
    "retrieved"
   ]
  }
 ],
 "metadata": {
  "kernelspec": {
   "display_name": "Python 3",
   "language": "python",
   "name": "python3"
  },
  "language_info": {
   "codemirror_mode": {
    "name": "ipython",
    "version": 3
   },
   "file_extension": ".py",
   "mimetype": "text/x-python",
   "name": "python",
   "nbconvert_exporter": "python",
   "pygments_lexer": "ipython3",
   "version": "3.10.7"
  }
 },
 "nbformat": 4,
 "nbformat_minor": 2
}
