{
 "cells": [
  {
   "cell_type": "code",
   "execution_count": 94,
   "metadata": {},
   "outputs": [],
   "source": [
    "import numpy as np \n",
    "from itertools import combinations\n",
    "from tqdm import tqdm"
   ]
  },
  {
   "cell_type": "markdown",
   "metadata": {},
   "source": [
    "# Total variation on a graph cellular sheaf"
   ]
  },
  {
   "cell_type": "code",
   "execution_count": 95,
   "metadata": {},
   "outputs": [],
   "source": [
    "V = 4\n",
    "edges = [\n",
    "    (1,2),\n",
    "    (2,3),\n",
    "    (2,4),\n",
    "    (1,3)\n",
    "]\n",
    "\n",
    "E = len(edges)\n",
    "d = 5"
   ]
  },
  {
   "cell_type": "code",
   "execution_count": 123,
   "metadata": {},
   "outputs": [],
   "source": [
    "# Linear maps generation\n",
    "\n",
    "F_a2 = np.eye(d)\n",
    "F_c3 = np.eye(d)\n",
    "F_d4 = np.eye(d)\n",
    "F_b1 = np.eye(d)\n",
    "\n",
    "F_b3 = np.random.randn(d,d)\n",
    "F_a1 = np.random.randn(d,d)\n",
    "F_c2 = np.linalg.inv(F_a1) @ np.linalg.inv(F_b3)\n",
    "F_d2 = np.random.randn(d,d)"
   ]
  },
  {
   "cell_type": "code",
   "execution_count": 124,
   "metadata": {},
   "outputs": [],
   "source": [
    "# Coboundary map\n",
    "\n",
    "B1 = np.zeros((E*d, V*d))\n",
    "\n",
    "B1[0:5, 0:5] = -F_a1\n",
    "B1[0:5, 5:10] = F_b1\n",
    "B1[5:10, 0:5] = F_a2\n",
    "B1[5:10, 10:15] = -F_c2\n",
    "B1[10:15, 5:10] = -F_b3\n",
    "B1[10:15, 10:15] = -F_c3\n",
    "B1[15:20, 15:20] = F_d4"
   ]
  },
  {
   "cell_type": "code",
   "execution_count": 133,
   "metadata": {},
   "outputs": [],
   "source": [
    "# Sheaf Laplacian\n",
    "\n",
    "L = B1 @ B1.T"
   ]
  },
  {
   "cell_type": "code",
   "execution_count": 126,
   "metadata": {},
   "outputs": [],
   "source": [
    "N = 100\n",
    "\n",
    "x_1 = np.random.randn(d,1)\n",
    "x_2 = F_a1.T @ x_1\n",
    "x_3 = np.linalg.inv(F_b3.T) @ x_1\n",
    "x_4 = F_d2.T @ F_a1.T @ x_1\n",
    "\n",
    "X = np.vstack([x_1, x_2, x_3, x_4])"
   ]
  },
  {
   "cell_type": "code",
   "execution_count": 134,
   "metadata": {},
   "outputs": [
    {
     "data": {
      "text/plain": [
       "876.6719825105126"
      ]
     },
     "execution_count": 134,
     "metadata": {},
     "output_type": "execute_result"
    }
   ],
   "source": [
    "np.trace(X.T @ L @ X)"
   ]
  },
  {
   "cell_type": "code",
   "execution_count": 128,
   "metadata": {},
   "outputs": [
    {
     "data": {
      "text/plain": [
       "array([[0.],\n",
       "       [0.],\n",
       "       [0.],\n",
       "       [0.],\n",
       "       [0.]])"
      ]
     },
     "execution_count": 128,
     "metadata": {},
     "output_type": "execute_result"
    }
   ],
   "source": [
    "F_a2.T @ x_2 - F_a1.T @ x_1"
   ]
  },
  {
   "cell_type": "code",
   "execution_count": 129,
   "metadata": {},
   "outputs": [
    {
     "data": {
      "text/plain": [
       "array([[ 2.22044605e-16],\n",
       "       [-3.33066907e-16],\n",
       "       [-4.44089210e-16],\n",
       "       [ 3.33066907e-16],\n",
       "       [ 0.00000000e+00]])"
      ]
     },
     "execution_count": 129,
     "metadata": {},
     "output_type": "execute_result"
    }
   ],
   "source": [
    "F_b1.T @ x_1 - F_b3.T @ x_3"
   ]
  },
  {
   "cell_type": "code",
   "execution_count": 130,
   "metadata": {},
   "outputs": [
    {
     "data": {
      "text/plain": [
       "array([[ 1.33226763e-15],\n",
       "       [-4.44089210e-16],\n",
       "       [-6.66133815e-16],\n",
       "       [ 0.00000000e+00],\n",
       "       [-8.88178420e-16]])"
      ]
     },
     "execution_count": 130,
     "metadata": {},
     "output_type": "execute_result"
    }
   ],
   "source": [
    "F_c3.T @ x_3 - F_c2.T @ x_2"
   ]
  },
  {
   "cell_type": "code",
   "execution_count": 131,
   "metadata": {},
   "outputs": [
    {
     "data": {
      "text/plain": [
       "array([[ 8.88178420e-16],\n",
       "       [-1.33226763e-15],\n",
       "       [-4.44089210e-16],\n",
       "       [ 4.44089210e-16],\n",
       "       [-1.33226763e-15]])"
      ]
     },
     "execution_count": 131,
     "metadata": {},
     "output_type": "execute_result"
    }
   ],
   "source": [
    "F_d4.T @ x_4 - F_d2.T @ x_2"
   ]
  }
 ],
 "metadata": {
  "kernelspec": {
   "display_name": "Python 3",
   "language": "python",
   "name": "python3"
  },
  "language_info": {
   "codemirror_mode": {
    "name": "ipython",
    "version": 3
   },
   "file_extension": ".py",
   "mimetype": "text/x-python",
   "name": "python",
   "nbconvert_exporter": "python",
   "pygments_lexer": "ipython3",
   "version": "3.10.7"
  }
 },
 "nbformat": 4,
 "nbformat_minor": 2
}
