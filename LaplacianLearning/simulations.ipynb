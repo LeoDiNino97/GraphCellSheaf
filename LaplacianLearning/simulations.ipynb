{
 "cells": [
  {
   "cell_type": "code",
   "execution_count": null,
   "metadata": {},
   "outputs": [],
   "source": [
    "sims_1_avgDist_L2 = [0 for _ in range(T)]\n",
    "sims_1_avgDist_L1 = [0 for _ in range(T)]\n",
    "sims_1_sparsAcc = [0 for _ in range(T)]\n",
    "\n",
    "sims_2_avgDist_L2 = [0 for _ in range(T)]\n",
    "sims_2_avgDist_L1 = [0 for _ in range(T)]\n",
    "sims_2_sparsAcc = [0 for _ in range(T)]\n",
    "\n",
    "for t in range(T):\n",
    "    '''\n",
    "    simu_1 = simulation(V = 100, d = 1)\n",
    "\n",
    "    sims_1_avgDist_L2[t] = simu_1[\"AvgEntryWiseED_L2\"]\n",
    "    sims_1_avgDist_L1[t] = simu_1[\"AvgEntryWiseED_L1\"]\n",
    "    sims_1_sparsAcc[t] = simu_1[\"SparsityAccuracy\"]\n",
    "    '''\n",
    "    simu_2 = simulation(V = 50, d = 2)\n",
    "\n",
    "    sims_2_avgDist_L2[t] = simu_2[\"AvgEntryWiseED_L2\"]\n",
    "    sims_2_avgDist_L1[t] = simu_2[\"AvgEntryWiseED_L1\"]\n",
    "    sims_2_sparsAcc[t] = simu_2[\"SparsityAccuracy\"]"
   ]
  }
 ],
 "metadata": {
  "language_info": {
   "name": "python"
  }
 },
 "nbformat": 4,
 "nbformat_minor": 2
}
