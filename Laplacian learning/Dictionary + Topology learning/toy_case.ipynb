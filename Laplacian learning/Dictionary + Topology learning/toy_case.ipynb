{
 "cells": [
  {
   "cell_type": "markdown",
   "metadata": {},
   "source": [
    "# Toy topology and signals dataset"
   ]
  },
  {
   "cell_type": "code",
   "execution_count": 345,
   "metadata": {},
   "outputs": [],
   "source": [
    "import numpy as np \n",
    "from itertools import combinations\n",
    "from tqdm import tqdm\n",
    "from matplotlib import pyplot as plt"
   ]
  },
  {
   "cell_type": "code",
   "execution_count": 346,
   "metadata": {},
   "outputs": [],
   "source": [
    "# Fourier basis + Canonical basis\n",
    "\n",
    "def FB(D:int,\n",
    "       over = False): \n",
    "\n",
    "    k = np.arange(D).reshape((D, 1))\n",
    "    n = np.arange(D).reshape((1, D))\n",
    "\n",
    "    if over:\n",
    "        return np.hstack([(1/np.sqrt(D)) * np.exp(-2j * np.pi * k * n / D), np.eye(D)])\n",
    "    else:\n",
    "        return (1/np.sqrt(D)) * np.exp(-2j * np.pi * k * n / D)"
   ]
  },
  {
   "cell_type": "code",
   "execution_count": 347,
   "metadata": {},
   "outputs": [],
   "source": [
    "def subSpaceAssignment(N:int,\n",
    "                       D:int,\n",
    "                       K:int):\n",
    "    \n",
    "    combo = list(combinations(range(D), K))\n",
    "    patterns = np.random.choice(len(combo), N, replace=False)\n",
    "    return {n: np.array(combo[patterns[n]]) for n in range(N)}"
   ]
  },
  {
   "cell_type": "code",
   "execution_count": 348,
   "metadata": {},
   "outputs": [],
   "source": [
    "def premultiplier(Xu, Xv):\n",
    "    uu = np.linalg.inv(Xu @ Xu.T)\n",
    "    uv = Xu @ Xv.T\n",
    "    vv = np.linalg.inv(Xv @ Xv.T)\n",
    "    vu = Xv @ Xu.T\n",
    "\n",
    "    return (uu, uv, vv, vu)\n",
    "\n",
    "def chi_u(uu, uv, vv, vu):\n",
    "\n",
    "    return ((uu @ uv - np.eye(uu.shape[0])) @ vv @ np.linalg.inv(vu @ uu @ uv @ vv - np.eye(uu.shape[0])) @ vu - np.eye(uu.shape[0])) @ uu\n",
    "\n",
    "def chi_v(uu, uv, vv, vu):\n",
    "\n",
    "    return (uu @ uv - np.eye(uu.shape[0])) @ vv @ np.linalg.inv(vu @ uu @ uv @ vv - np.eye(uu.shape[0]))"
   ]
  },
  {
   "cell_type": "markdown",
   "metadata": {},
   "source": [
    "________________"
   ]
  },
  {
   "cell_type": "code",
   "execution_count": 349,
   "metadata": {},
   "outputs": [],
   "source": [
    "V = 4\n",
    "edges = [\n",
    "    (0,1),\n",
    "    (1,2),\n",
    "    (1,3),\n",
    "    (0,2)\n",
    "]\n",
    "\n",
    "nodes = [i for i in range(V)]\n",
    "E = len(edges)"
   ]
  },
  {
   "cell_type": "code",
   "execution_count": 350,
   "metadata": {},
   "outputs": [],
   "source": [
    "d = 20\n",
    "k = 5\n",
    "N = 100"
   ]
  },
  {
   "cell_type": "code",
   "execution_count": 351,
   "metadata": {},
   "outputs": [],
   "source": [
    "D = FB(d)"
   ]
  },
  {
   "cell_type": "code",
   "execution_count": 352,
   "metadata": {},
   "outputs": [],
   "source": [
    "subspaces = {0:np.array([0,1,2,3,4]),\n",
    "             1:np.array([3,4,5,6,7]),\n",
    "             2:np.array([1,2,3,4,5]),\n",
    "             3:np.array([6,7,8,9,10])}"
   ]
  },
  {
   "cell_type": "code",
   "execution_count": 353,
   "metadata": {},
   "outputs": [],
   "source": [
    "signals = {node: D[:,subspaces[node]] @ np.random.randn(k, N)\n",
    "           for node in nodes}"
   ]
  },
  {
   "cell_type": "code",
   "execution_count": 354,
   "metadata": {},
   "outputs": [],
   "source": [
    "T = 0\n",
    "\n",
    "H = {\n",
    "    edge : {\n",
    "        edge[0] : None,\n",
    "        edge[1] : None\n",
    "    }\n",
    "for edge in combinations(nodes, 2)\n",
    "}"
   ]
  },
  {
   "cell_type": "code",
   "execution_count": 355,
   "metadata": {},
   "outputs": [
    {
     "name": "stderr",
     "output_type": "stream",
     "text": [
      "6it [00:00, 120.00it/s]\n"
     ]
    }
   ],
   "source": [
    "for e in tqdm(combinations(nodes,2)):\n",
    "    u = e[0]\n",
    "    v = e[1]\n",
    "\n",
    "    X_u = signals[u]\n",
    "    X_v = signals[v]\n",
    "    uu, uv, vv, vu = premultiplier(X_u, X_v)\n",
    "\n",
    "    H[e][u] = chi_u(uu, uv, vv, vu)\n",
    "    H[e][v] = chi_u(uu, uv, vv, vu)\n",
    "    \n",
    "    T += np.trace(H[e][u]) + np.trace(H[e][v])"
   ]
  },
  {
   "cell_type": "code",
   "execution_count": 356,
   "metadata": {},
   "outputs": [],
   "source": [
    "mu = T"
   ]
  },
  {
   "cell_type": "code",
   "execution_count": 357,
   "metadata": {},
   "outputs": [],
   "source": [
    "H = {\n",
    "    edge : {\n",
    "        edge[0] : mu/T * (H[edge][edge[0]]),\n",
    "        edge[1] : mu/T * (H[edge][edge[1]])\n",
    "    }\n",
    "for edge in combinations(nodes, 2)\n",
    "}"
   ]
  },
  {
   "cell_type": "code",
   "execution_count": 358,
   "metadata": {},
   "outputs": [],
   "source": [
    "all_edges = list(combinations(range(V), 2))\n",
    "\n",
    "energies = {\n",
    "    e : 0\n",
    "    for e in all_edges\n",
    "    }\n",
    "\n",
    "for e in (all_edges):\n",
    "    u = e[0]\n",
    "    v = e[1]\n",
    "    \n",
    "    '''\n",
    "    X_ = np.zeros_like(X)\n",
    "    X_[u*d:(u+1)*d,:] = X[u*d:(u+1)*d,:]\n",
    "    X_[v*d:(v+1)*d,:] = X[v*d:(v+1)*d,:]\n",
    "    energies[e] = np.linalg.norm(BB @ X_)\n",
    "    '''\n",
    "\n",
    "    energies[e] = np.linalg.norm(H[e][e[0]] @ signals[e[0]] - H[e][e[1]] @ signals[e[1]])"
   ]
  },
  {
   "cell_type": "code",
   "execution_count": 359,
   "metadata": {},
   "outputs": [],
   "source": [
    "retrieved = sorted(energies.items(), key=lambda x:x[1])[:E]"
   ]
  },
  {
   "cell_type": "code",
   "execution_count": 360,
   "metadata": {},
   "outputs": [
    {
     "name": "stdout",
     "output_type": "stream",
     "text": [
      "Accuracy in retrieving underlying graph 1.0\n"
     ]
    }
   ],
   "source": [
    "print(f'Accuracy in retrieving underlying graph {len(set(list(map(lambda x: x[0], retrieved))).intersection(set(edges))) / E}')"
   ]
  },
  {
   "cell_type": "code",
   "execution_count": 361,
   "metadata": {},
   "outputs": [
    {
     "data": {
      "text/plain": [
       "[((0, 2), 3345220096629341.0),\n",
       " ((1, 3), 3740276750234392.5),\n",
       " ((0, 1), 4435863540478665.5),\n",
       " ((1, 2), 6218057716780081.0)]"
      ]
     },
     "execution_count": 361,
     "metadata": {},
     "output_type": "execute_result"
    }
   ],
   "source": [
    "retrieved"
   ]
  }
 ],
 "metadata": {
  "kernelspec": {
   "display_name": "Python 3",
   "language": "python",
   "name": "python3"
  },
  "language_info": {
   "codemirror_mode": {
    "name": "ipython",
    "version": 3
   },
   "file_extension": ".py",
   "mimetype": "text/x-python",
   "name": "python",
   "nbconvert_exporter": "python",
   "pygments_lexer": "ipython3",
   "version": "3.10.7"
  }
 },
 "nbformat": 4,
 "nbformat_minor": 2
}
