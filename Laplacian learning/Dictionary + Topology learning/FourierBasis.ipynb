{
 "cells": [
  {
   "cell_type": "code",
   "execution_count": 1,
   "metadata": {},
   "outputs": [],
   "source": [
    "import numpy as np"
   ]
  },
  {
   "cell_type": "code",
   "execution_count": 25,
   "metadata": {},
   "outputs": [],
   "source": [
    "def Lambda(rho:float,\n",
    "           D: int):\n",
    "    \n",
    "    rhos = np.power(rho, np.arange(D))\n",
    "    return np.diag(rhos)\n",
    "\n",
    "def FB(dim:int): \n",
    "\n",
    "    n = np.arange(dim)\n",
    "    k = n.reshape((dim,1))\n",
    "    return np.exp(-2j * 2 * np.pi * k * n/dim)\n",
    "\n",
    "def Toe(dim:int,\n",
    "        rho:float):\n",
    "    return np.real(FB(dim).conj() @ Lambda(rho, dim) @ FB(dim))"
   ]
  }
 ],
 "metadata": {
  "kernelspec": {
   "display_name": "Python 3",
   "language": "python",
   "name": "python3"
  },
  "language_info": {
   "codemirror_mode": {
    "name": "ipython",
    "version": 3
   },
   "file_extension": ".py",
   "mimetype": "text/x-python",
   "name": "python",
   "nbconvert_exporter": "python",
   "pygments_lexer": "ipython3",
   "version": "3.10.7"
  }
 },
 "nbformat": 4,
 "nbformat_minor": 2
}
