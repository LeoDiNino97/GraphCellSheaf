{
 "cells": [
  {
   "cell_type": "markdown",
   "metadata": {},
   "source": [
    "# Toy topology and signals dataset"
   ]
  },
  {
   "cell_type": "code",
   "execution_count": 2,
   "metadata": {},
   "outputs": [],
   "source": [
    "import numpy as np \n",
    "from itertools import combinations\n",
    "from tqdm import tqdm\n",
    "from matplotlib import pyplot as plt\n",
    "\n",
    "from sklearn.linear_model import OrthogonalMatchingPursuit"
   ]
  },
  {
   "cell_type": "code",
   "execution_count": 2,
   "metadata": {},
   "outputs": [],
   "source": [
    "# Let's generate a toy topology for our example\n",
    "\n",
    "nodes = [i for i in range(7)]\n",
    "edges = [\n",
    "    (0,1),\n",
    "    (0,3),\n",
    "    (0,6),\n",
    "    (1,2),\n",
    "    (1,5),\n",
    "    (2,4),\n",
    "    (4,6),\n",
    "    (5,6)\n",
    "]\n",
    "\n",
    "V = 7\n",
    "E = len(edges)\n",
    "\n",
    "d = 10                                         # Node and edges stalks dimension\n",
    "\n",
    "F = {\n",
    "    e:{\n",
    "        e[0]:np.random.randn(d,d),\n",
    "        e[1]:np.random.randn(d,d)\n",
    "        } \n",
    "        for e in edges\n",
    "    }                                           # Incidency linear maps\n",
    "\n",
    "# Sheaf representation \n",
    "\n",
    "# Coboundary map\n",
    "\n",
    "B = np.zeros((d*E, d*V))\n",
    "\n",
    "for i in range(len(edges)):\n",
    "    edge = edges[i]\n",
    "\n",
    "    u = edge[0] \n",
    "    v = edge[1] \n",
    "\n",
    "    B_u = F[edge][u]\n",
    "    B_v = F[edge][v]\n",
    "\n",
    "    B[i*d:(i+1)*d, u*d:(u+1)*d] = B_u\n",
    "    B[i*d:(i+1)*d, v*d:(v+1)*d] = - B_v\n",
    "\n",
    "# Sheaf Laplacian\n",
    "\n",
    "L_f = B.T @ B"
   ]
  },
  {
   "cell_type": "code",
   "execution_count": 3,
   "metadata": {},
   "outputs": [],
   "source": [
    "N = 100\n",
    "X = np.random.randn(V*d,N)"
   ]
  },
  {
   "cell_type": "code",
   "execution_count": 4,
   "metadata": {},
   "outputs": [],
   "source": [
    "Lambda, U = np.linalg.eig(L_f)\n",
    "H = 1/(1 + 10*Lambda)"
   ]
  },
  {
   "cell_type": "code",
   "execution_count": 5,
   "metadata": {},
   "outputs": [],
   "source": [
    "Y = U @ np.diag(H) @ U.T @ X\n",
    "\n",
    "#Y += np.random.normal(0, 10e-2, size=Y.shape)"
   ]
  },
  {
   "cell_type": "code",
   "execution_count": 6,
   "metadata": {},
   "outputs": [],
   "source": [
    "Y_ = Y.reshape((V, d, N)).transpose(1, 0, 2).reshape(d, V * N)"
   ]
  },
  {
   "cell_type": "code",
   "execution_count": 7,
   "metadata": {},
   "outputs": [
    {
     "data": {
      "text/plain": [
       "(10, 700)"
      ]
     },
     "execution_count": 7,
     "metadata": {},
     "output_type": "execute_result"
    }
   ],
   "source": [
    "Y_.shape"
   ]
  },
  {
   "cell_type": "code",
   "execution_count": 59,
   "metadata": {},
   "outputs": [
    {
     "data": {
      "text/plain": [
       "array([[ 0.01614714,  0.06827788,  0.01989991, ...,  0.07556531,\n",
       "         0.03884675, -0.02810642],\n",
       "       [ 0.09961387, -0.10992272, -0.11755716, ..., -0.04937176,\n",
       "        -0.01101056, -0.17309353],\n",
       "       [ 0.04200499, -0.00391957,  0.04448012, ...,  0.03806193,\n",
       "         0.12546436, -0.09727891],\n",
       "       ...,\n",
       "       [ 0.05511063, -0.0166209 ,  0.00614227, ...,  0.04632259,\n",
       "         0.13876607, -0.08942779],\n",
       "       [-0.02895585,  0.01767017, -0.01227345, ...,  0.01159964,\n",
       "        -0.05405894,  0.05881236],\n",
       "       [ 0.05368272,  0.02387523, -0.06289261, ..., -0.00156949,\n",
       "         0.08385374, -0.08486124]])"
      ]
     },
     "execution_count": 59,
     "metadata": {},
     "output_type": "execute_result"
    }
   ],
   "source": [
    "Y"
   ]
  },
  {
   "cell_type": "markdown",
   "metadata": {},
   "source": [
    "# Imposed dictionary for learned sparsity"
   ]
  },
  {
   "cell_type": "code",
   "execution_count": 60,
   "metadata": {},
   "outputs": [],
   "source": [
    "# Subroutines for subproblems\n",
    "\n",
    "def grad(Y, D, X): \n",
    "    return - Y @ X.T + D @ X @ X.T\n",
    "\n",
    "def proj(D):\n",
    "\n",
    "    return np.apply_along_axis(lambda d: d/np.max([1, np.linalg.norm(d)]), axis=0, arr=D)\n",
    "\n",
    "def projected_gradient(Y, D, X, LR = 0.001, T = 100):\n",
    "    for _ in range(T):\n",
    "        D = proj ( D - LR * grad(Y,D,X))\n",
    "    return D"
   ]
  },
  {
   "cell_type": "code",
   "execution_count": 62,
   "metadata": {},
   "outputs": [],
   "source": [
    "# Subroutine for learned sparsity - IHS\n",
    "\n",
    "def Hs(x, s):\n",
    "    '''\n",
    "    Hard thresholding operator keeps the s highest in magnitude component of a vector and collapse to zero all the others\n",
    "    '''\n",
    "\n",
    "    # Retrieve the indeces of s highest in magnitude components of x (argsort is increasing so [:-s] keeps the s highest ones)\n",
    "    idxs = np.argsort(np.abs(x))[-s:]\n",
    "\n",
    "    # Initialize an all zeros vector and store the retrieved component of x in the corresponding indices\n",
    "    X = np.zeros(x.shape[0])\n",
    "    X[idxs] = x[idxs]\n",
    "    return X\n",
    "\n",
    "def iterative_hard_thresholding(y, A, s):\n",
    "    x = np.zeros(A.shape[1])\n",
    "    iters = 0\n",
    "\n",
    "    while iters < s:\n",
    "\n",
    "        # Apply the hard thresholding in a fixed point fashion\n",
    "        x = Hs(x + A.T @ (y - A @ x), s)\n",
    "        iters += 1\n",
    "\n",
    "    return x\n",
    "\n",
    "# Subroutine for learned sparsity - OTM\n",
    "\n",
    "def ortho_match_pursuit(y, A, K = None, eps = 1e-2):\n",
    "    S = []\n",
    "\n",
    "    x = np.zeros(A.shape[1])\n",
    "    iters = 0\n",
    "    rate = 0\n",
    "    R = y\n",
    "\n",
    "    while iters < K:\n",
    "\n",
    "        # Retrieve the maximum correlation between atoms and residuals of the previous iteration\n",
    "        S.append(np.argmax(np.abs(A.T @ R)))\n",
    "\n",
    "        # Expand the dictionary for the representation\n",
    "        dic = A[:,S]\n",
    "\n",
    "        # Solve subproblems and update x\n",
    "        x[S] = np.linalg.inv(dic.T @ dic) @ dic.T @ y\n",
    "        \n",
    "        # Update the residuals\n",
    "        R = y - A @ x\n",
    "        iters += 1\n",
    "\n",
    "    return x"
   ]
  },
  {
   "cell_type": "code",
   "execution_count": 114,
   "metadata": {},
   "outputs": [],
   "source": [
    "def SCADictionaryLearning(Y, m, K, epsilon = 1e-5, gamma = 0.99, max_iter = 200):\n",
    "\n",
    "    s = Y.shape[0]\n",
    "    t = Y.shape[1]\n",
    "\n",
    "    D = np.random.rand(s,m)\n",
    "    X = np.random.rand(m,t)\n",
    "\n",
    "    '''\n",
    "    for j in range(t):\n",
    "        X[:,j] = Hs(X[:,j], k)\n",
    "    '''\n",
    "    \n",
    "    # Normalize data\n",
    "    Y = np.apply_along_axis(lambda x: x/np.linalg.norm(x), axis=0, arr=Y)\n",
    "    \n",
    "    loss = [np.linalg.norm(Y - D @ X)]\n",
    "    rate = 1\n",
    "\n",
    "    for it in tqdm(range(1,max_iter)): \n",
    "\n",
    "        D_hat = np.random.rand(D.shape[0],D.shape[1])\n",
    "        X_hat = np.random.rand(X.shape[0],X.shape[1])\n",
    "\n",
    "        # First subproblem - Normalized LS in the dictionary\n",
    "        D_hat = projected_gradient(Y, D_hat, X)\n",
    "\n",
    "        # Second sub  problem - LASSO within each sample of signals\n",
    "        X_hat = np.apply_along_axis(iterative_hard_thresholding, arr = Y, axis = 0, A = D, s = K)\n",
    "\n",
    "        # Convex combination\n",
    "        '''\n",
    "        D = D + gamma * (D_hat - D)\n",
    "        X = X + gamma * (X_hat - X)\n",
    "        '''\n",
    "\n",
    "        # Decreasing step size \n",
    "        gamma *= 0.9\n",
    "        \n",
    "        \n",
    "        D = D_hat\n",
    "        X = X_hat\n",
    "        \n",
    "        \n",
    "        # Metrics stores and update\n",
    "        loss.append(np.linalg.norm(Y - D @ X))\n",
    "        rate = np.abs(loss[it] - loss[it - 1])\n",
    "        \n",
    "    return D, X, loss"
   ]
  },
  {
   "cell_type": "code",
   "execution_count": 115,
   "metadata": {},
   "outputs": [
    {
     "name": "stderr",
     "output_type": "stream",
     "text": [
      "100%|██████████| 199/199 [00:32<00:00,  6.11it/s]\n"
     ]
    }
   ],
   "source": [
    "D, X, loss = SCADictionaryLearning(Y_, 40, 5)"
   ]
  },
  {
   "cell_type": "code",
   "execution_count": 116,
   "metadata": {},
   "outputs": [
    {
     "data": {
      "text/plain": [
       "(40, 700)"
      ]
     },
     "execution_count": 116,
     "metadata": {},
     "output_type": "execute_result"
    }
   ],
   "source": [
    "X.shape"
   ]
  },
  {
   "cell_type": "code",
   "execution_count": 117,
   "metadata": {},
   "outputs": [
    {
     "data": {
      "text/plain": [
       "(10, 700)"
      ]
     },
     "execution_count": 117,
     "metadata": {},
     "output_type": "execute_result"
    }
   ],
   "source": [
    "(D @ X).shape"
   ]
  },
  {
   "cell_type": "code",
   "execution_count": 118,
   "metadata": {},
   "outputs": [
    {
     "data": {
      "text/plain": [
       "[<matplotlib.lines.Line2D at 0x1ed0747d300>]"
      ]
     },
     "execution_count": 118,
     "metadata": {},
     "output_type": "execute_result"
    },
    {
     "data": {
      "image/png": "[encoded data removed]",
      "text/plain": [
       "<Figure size 640x480 with 1 Axes>"
      ]
     },
     "metadata": {},
     "output_type": "display_data"
    }
   ],
   "source": [
    "plt.loglog(loss)"
   ]
  },
  {
   "cell_type": "code",
   "execution_count": 119,
   "metadata": {},
   "outputs": [],
   "source": [
    "S = {node: X[:,node*100:(node+1)*100]\n",
    "     for node in nodes}"
   ]
  },
  {
   "cell_type": "code",
   "execution_count": 120,
   "metadata": {},
   "outputs": [],
   "source": [
    "def premultiplier(Xu, Xv):\n",
    "    uu = np.linalg.pinv(Xu @ Xu.T)\n",
    "    uv = Xu @ Xv.T\n",
    "    vv = np.linalg.pinv(Xv @ Xv.T)\n",
    "    vu = Xv @ Xu.T\n",
    "\n",
    "    return (uu, uv, vv, vu)\n",
    "\n",
    "def chi_u(uu, uv, vv, vu):\n",
    "\n",
    "    return ((uu @ uv - np.eye(uu.shape[0])) @ vv @ np.linalg.pinv(vu @ uu @ uv @ vv - np.eye(uu.shape[0])) @ vu - np.eye(uu.shape[0])) @ uu\n",
    "\n",
    "def chi_v(uu, uv, vv, vu):\n",
    "\n",
    "    return (uu @ uv - np.eye(uu.shape[0])) @ vv @ np.linalg.pinv(vu @ uu @ uv @ vv - np.eye(uu.shape[0]))"
   ]
  },
  {
   "cell_type": "code",
   "execution_count": 121,
   "metadata": {},
   "outputs": [],
   "source": [
    "T = 0\n",
    "\n",
    "H = {\n",
    "    edge : {\n",
    "        edge[0] : None,\n",
    "        edge[1] : None\n",
    "    }\n",
    "for edge in combinations(nodes, 2)\n",
    "}"
   ]
  },
  {
   "cell_type": "code",
   "execution_count": 122,
   "metadata": {},
   "outputs": [
    {
     "name": "stderr",
     "output_type": "stream",
     "text": [
      "21it [00:00, 393.29it/s]\n"
     ]
    }
   ],
   "source": [
    "for e in tqdm(combinations(nodes,2)):\n",
    "    u = e[0]\n",
    "    v = e[1]\n",
    "\n",
    "    X_u = S[u]\n",
    "    X_v = S[v]\n",
    "    uu, uv, vv, vu = premultiplier(X_u, X_v)\n",
    "\n",
    "    H[e][u] = chi_u(uu, uv, vv, vu)\n",
    "    H[e][v] = chi_u(uu, uv, vv, vu)\n",
    "    \n",
    "    T += np.trace(H[e][u]) + np.trace(H[e][v])"
   ]
  },
  {
   "cell_type": "code",
   "execution_count": 123,
   "metadata": {},
   "outputs": [
    {
     "data": {
      "text/plain": [
       "-419404760779.4005"
      ]
     },
     "execution_count": 123,
     "metadata": {},
     "output_type": "execute_result"
    }
   ],
   "source": [
    "T"
   ]
  },
  {
   "cell_type": "code",
   "execution_count": 124,
   "metadata": {},
   "outputs": [],
   "source": [
    "mu = T"
   ]
  },
  {
   "cell_type": "code",
   "execution_count": 125,
   "metadata": {},
   "outputs": [],
   "source": [
    "H = {\n",
    "    edge : {\n",
    "        edge[0] : mu/T * (H[edge][edge[0]]),\n",
    "        edge[1] : mu/T * (H[edge][edge[1]])\n",
    "    }\n",
    "for edge in combinations(nodes, 2)\n",
    "}"
   ]
  },
  {
   "cell_type": "code",
   "execution_count": 126,
   "metadata": {},
   "outputs": [],
   "source": [
    "all_edges = list(combinations(range(V), 2))\n",
    "\n",
    "energies = {\n",
    "    e : 0\n",
    "    for e in all_edges\n",
    "    }\n",
    "\n",
    "for e in (all_edges):\n",
    "    u = e[0]\n",
    "    v = e[1]\n",
    "    \n",
    "    '''\n",
    "    X_ = np.zeros_like(X)\n",
    "    X_[u*d:(u+1)*d,:] = X[u*d:(u+1)*d,:]\n",
    "    X_[v*d:(v+1)*d,:] = X[v*d:(v+1)*d,:]\n",
    "    energies[e] = np.linalg.norm(BB @ X_)\n",
    "    '''\n",
    "\n",
    "    energies[e] = np.linalg.norm(H[e][e[0]] @ S[e[0]] - H[e][e[1]] @ S[e[1]])"
   ]
  },
  {
   "cell_type": "code",
   "execution_count": 127,
   "metadata": {},
   "outputs": [],
   "source": [
    "retrieved = sorted(energies.items(), key=lambda x:x[1])[:E]"
   ]
  },
  {
   "cell_type": "code",
   "execution_count": 128,
   "metadata": {},
   "outputs": [
    {
     "data": {
      "text/plain": [
       "0.25"
      ]
     },
     "execution_count": 128,
     "metadata": {},
     "output_type": "execute_result"
    }
   ],
   "source": [
    "len(set(list(map(lambda x: x[0], retrieved))).intersection(set(edges))) / E"
   ]
  },
  {
   "cell_type": "code",
   "execution_count": 129,
   "metadata": {},
   "outputs": [
    {
     "data": {
      "text/plain": [
       "[((4, 6), 180226.27574854647),\n",
       " ((1, 6), 944788.5608800974),\n",
       " ((4, 5), 999807.4779208448),\n",
       " ((0, 3), 1150721.4393479198),\n",
       " ((3, 6), 2395920.681194651),\n",
       " ((1, 3), 2819713.433883345),\n",
       " ((2, 6), 3112816.6594633837),\n",
       " ((1, 4), 4216210.663520044)]"
      ]
     },
     "execution_count": 129,
     "metadata": {},
     "output_type": "execute_result"
    }
   ],
   "source": [
    "retrieved"
   ]
  }
 ],
 "metadata": {
  "kernelspec": {
   "display_name": "Python 3",
   "language": "python",
   "name": "python3"
  },
  "language_info": {
   "codemirror_mode": {
    "name": "ipython",
    "version": 3
   },
   "file_extension": ".py",
   "mimetype": "text/x-python",
   "name": "python",
   "nbconvert_exporter": "python",
   "pygments_lexer": "ipython3",
   "version": "3.10.7"
  }
 },
 "nbformat": 4,
 "nbformat_minor": 2
}
